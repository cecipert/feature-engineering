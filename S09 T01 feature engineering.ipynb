{
 "cells": [
  {
   "cell_type": "markdown",
   "id": "d3f4ee15",
   "metadata": {},
   "source": [
    "# S09 T01 feature engineering"
   ]
  },
  {
   "cell_type": "markdown",
   "id": "8ec9414a",
   "metadata": {},
   "source": [
    "## Dataset de datos deportivos\n",
    "Datos de deportistas de los Juegos Olímpicos de 2016"
   ]
  },
  {
   "cell_type": "code",
   "execution_count": 540,
   "id": "a1dfaef8",
   "metadata": {},
   "outputs": [],
   "source": [
    "import pandas as pd\n",
    "from matplotlib import pyplot as plt\n",
    "import seaborn as sns\n",
    "import datetime\n",
    "import numpy as np\n",
    "from datetime import timedelta, date\n",
    "# funcion para estandarizar atributos\n",
    "from sklearn.preprocessing import StandardScaler\n",
    "# funciones para normalizar atributos\n",
    "from sklearn.preprocessing import MinMaxScaler\n",
    "from sklearn import preprocessing\n",
    "from sklearn.preprocessing import RobustScaler, PowerTransformer"
   ]
  },
  {
   "cell_type": "code",
   "execution_count": 541,
   "id": "9eb2c8f2",
   "metadata": {},
   "outputs": [
    {
     "data": {
      "text/html": [
       "<div>\n",
       "<style scoped>\n",
       "    .dataframe tbody tr th:only-of-type {\n",
       "        vertical-align: middle;\n",
       "    }\n",
       "\n",
       "    .dataframe tbody tr th {\n",
       "        vertical-align: top;\n",
       "    }\n",
       "\n",
       "    .dataframe thead th {\n",
       "        text-align: right;\n",
       "    }\n",
       "</style>\n",
       "<table border=\"1\" class=\"dataframe\">\n",
       "  <thead>\n",
       "    <tr style=\"text-align: right;\">\n",
       "      <th></th>\n",
       "      <th>id</th>\n",
       "      <th>name</th>\n",
       "      <th>nationality</th>\n",
       "      <th>sex</th>\n",
       "      <th>dob</th>\n",
       "      <th>height</th>\n",
       "      <th>weight</th>\n",
       "      <th>sport</th>\n",
       "      <th>gold</th>\n",
       "      <th>silver</th>\n",
       "      <th>bronze</th>\n",
       "    </tr>\n",
       "  </thead>\n",
       "  <tbody>\n",
       "    <tr>\n",
       "      <th>0</th>\n",
       "      <td>736041664</td>\n",
       "      <td>A Jesus Garcia</td>\n",
       "      <td>ESP</td>\n",
       "      <td>male</td>\n",
       "      <td>10/17/69</td>\n",
       "      <td>1.72</td>\n",
       "      <td>64.0</td>\n",
       "      <td>athletics</td>\n",
       "      <td>0</td>\n",
       "      <td>0</td>\n",
       "      <td>0</td>\n",
       "    </tr>\n",
       "    <tr>\n",
       "      <th>1</th>\n",
       "      <td>532037425</td>\n",
       "      <td>A Lam Shin</td>\n",
       "      <td>KOR</td>\n",
       "      <td>female</td>\n",
       "      <td>9/23/86</td>\n",
       "      <td>1.68</td>\n",
       "      <td>56.0</td>\n",
       "      <td>fencing</td>\n",
       "      <td>0</td>\n",
       "      <td>0</td>\n",
       "      <td>0</td>\n",
       "    </tr>\n",
       "    <tr>\n",
       "      <th>2</th>\n",
       "      <td>435962603</td>\n",
       "      <td>Aaron Brown</td>\n",
       "      <td>CAN</td>\n",
       "      <td>male</td>\n",
       "      <td>5/27/92</td>\n",
       "      <td>1.98</td>\n",
       "      <td>79.0</td>\n",
       "      <td>athletics</td>\n",
       "      <td>0</td>\n",
       "      <td>0</td>\n",
       "      <td>1</td>\n",
       "    </tr>\n",
       "    <tr>\n",
       "      <th>3</th>\n",
       "      <td>521041435</td>\n",
       "      <td>Aaron Cook</td>\n",
       "      <td>MDA</td>\n",
       "      <td>male</td>\n",
       "      <td>1/2/91</td>\n",
       "      <td>1.83</td>\n",
       "      <td>80.0</td>\n",
       "      <td>taekwondo</td>\n",
       "      <td>0</td>\n",
       "      <td>0</td>\n",
       "      <td>0</td>\n",
       "    </tr>\n",
       "    <tr>\n",
       "      <th>4</th>\n",
       "      <td>33922579</td>\n",
       "      <td>Aaron Gate</td>\n",
       "      <td>NZL</td>\n",
       "      <td>male</td>\n",
       "      <td>11/26/90</td>\n",
       "      <td>1.81</td>\n",
       "      <td>71.0</td>\n",
       "      <td>cycling</td>\n",
       "      <td>0</td>\n",
       "      <td>0</td>\n",
       "      <td>0</td>\n",
       "    </tr>\n",
       "    <tr>\n",
       "      <th>5</th>\n",
       "      <td>173071782</td>\n",
       "      <td>Aaron Royle</td>\n",
       "      <td>AUS</td>\n",
       "      <td>male</td>\n",
       "      <td>1/26/90</td>\n",
       "      <td>1.80</td>\n",
       "      <td>67.0</td>\n",
       "      <td>triathlon</td>\n",
       "      <td>0</td>\n",
       "      <td>0</td>\n",
       "      <td>0</td>\n",
       "    </tr>\n",
       "    <tr>\n",
       "      <th>6</th>\n",
       "      <td>266237702</td>\n",
       "      <td>Aaron Russell</td>\n",
       "      <td>USA</td>\n",
       "      <td>male</td>\n",
       "      <td>6/4/93</td>\n",
       "      <td>2.05</td>\n",
       "      <td>98.0</td>\n",
       "      <td>volleyball</td>\n",
       "      <td>0</td>\n",
       "      <td>0</td>\n",
       "      <td>1</td>\n",
       "    </tr>\n",
       "    <tr>\n",
       "      <th>7</th>\n",
       "      <td>382571888</td>\n",
       "      <td>Aaron Younger</td>\n",
       "      <td>AUS</td>\n",
       "      <td>male</td>\n",
       "      <td>9/25/91</td>\n",
       "      <td>1.93</td>\n",
       "      <td>100.0</td>\n",
       "      <td>aquatics</td>\n",
       "      <td>0</td>\n",
       "      <td>0</td>\n",
       "      <td>0</td>\n",
       "    </tr>\n",
       "    <tr>\n",
       "      <th>8</th>\n",
       "      <td>87689776</td>\n",
       "      <td>Aauri Lorena Bokesa</td>\n",
       "      <td>ESP</td>\n",
       "      <td>female</td>\n",
       "      <td>12/14/88</td>\n",
       "      <td>1.80</td>\n",
       "      <td>62.0</td>\n",
       "      <td>athletics</td>\n",
       "      <td>0</td>\n",
       "      <td>0</td>\n",
       "      <td>0</td>\n",
       "    </tr>\n",
       "    <tr>\n",
       "      <th>9</th>\n",
       "      <td>997877719</td>\n",
       "      <td>Ababel Yeshaneh</td>\n",
       "      <td>ETH</td>\n",
       "      <td>female</td>\n",
       "      <td>7/22/91</td>\n",
       "      <td>1.65</td>\n",
       "      <td>54.0</td>\n",
       "      <td>athletics</td>\n",
       "      <td>0</td>\n",
       "      <td>0</td>\n",
       "      <td>0</td>\n",
       "    </tr>\n",
       "  </tbody>\n",
       "</table>\n",
       "</div>"
      ],
      "text/plain": [
       "          id                 name nationality     sex       dob  height  \\\n",
       "0  736041664       A Jesus Garcia         ESP    male  10/17/69    1.72   \n",
       "1  532037425           A Lam Shin         KOR  female   9/23/86    1.68   \n",
       "2  435962603          Aaron Brown         CAN    male   5/27/92    1.98   \n",
       "3  521041435           Aaron Cook         MDA    male    1/2/91    1.83   \n",
       "4   33922579           Aaron Gate         NZL    male  11/26/90    1.81   \n",
       "5  173071782          Aaron Royle         AUS    male   1/26/90    1.80   \n",
       "6  266237702        Aaron Russell         USA    male    6/4/93    2.05   \n",
       "7  382571888        Aaron Younger         AUS    male   9/25/91    1.93   \n",
       "8   87689776  Aauri Lorena Bokesa         ESP  female  12/14/88    1.80   \n",
       "9  997877719      Ababel Yeshaneh         ETH  female   7/22/91    1.65   \n",
       "\n",
       "   weight       sport  gold  silver  bronze  \n",
       "0    64.0   athletics     0       0       0  \n",
       "1    56.0     fencing     0       0       0  \n",
       "2    79.0   athletics     0       0       1  \n",
       "3    80.0   taekwondo     0       0       0  \n",
       "4    71.0     cycling     0       0       0  \n",
       "5    67.0   triathlon     0       0       0  \n",
       "6    98.0  volleyball     0       0       1  \n",
       "7   100.0    aquatics     0       0       0  \n",
       "8    62.0   athletics     0       0       0  \n",
       "9    54.0   athletics     0       0       0  "
      ]
     },
     "execution_count": 541,
     "metadata": {},
     "output_type": "execute_result"
    }
   ],
   "source": [
    "# Cargo un dataset de atletas de los juegos olímpicos 2016 con sus medallas\n",
    "df = pd.read_csv(\"athletes.csv\")\n",
    "df.head(10)"
   ]
  },
  {
   "cell_type": "markdown",
   "id": "101ac2fd",
   "metadata": {},
   "source": [
    "El dataset de los Juegos Olímpicos de 2016 tiene datos de 11538 deportistas "
   ]
  },
  {
   "cell_type": "code",
   "execution_count": 542,
   "id": "6e617929",
   "metadata": {},
   "outputs": [
    {
     "name": "stdout",
     "output_type": "stream",
     "text": [
      "<class 'pandas.core.frame.DataFrame'>\n",
      "RangeIndex: 11538 entries, 0 to 11537\n",
      "Data columns (total 11 columns):\n",
      " #   Column       Non-Null Count  Dtype  \n",
      "---  ------       --------------  -----  \n",
      " 0   id           11538 non-null  int64  \n",
      " 1   name         11538 non-null  object \n",
      " 2   nationality  11538 non-null  object \n",
      " 3   sex          11538 non-null  object \n",
      " 4   dob          11537 non-null  object \n",
      " 5   height       11208 non-null  float64\n",
      " 6   weight       10879 non-null  float64\n",
      " 7   sport        11538 non-null  object \n",
      " 8   gold         11538 non-null  int64  \n",
      " 9   silver       11538 non-null  int64  \n",
      " 10  bronze       11538 non-null  int64  \n",
      "dtypes: float64(2), int64(4), object(5)\n",
      "memory usage: 991.7+ KB\n"
     ]
    }
   ],
   "source": [
    "df.info()\n"
   ]
  },
  {
   "cell_type": "code",
   "execution_count": 543,
   "id": "be4bf710",
   "metadata": {},
   "outputs": [],
   "source": [
    "df = df.drop_duplicates()\n",
    "# no habia duplicados"
   ]
  },
  {
   "cell_type": "code",
   "execution_count": 544,
   "id": "a5e45278",
   "metadata": {},
   "outputs": [],
   "source": [
    "# hay un único registro que no tiene fecha de nacimiento así que lo elimino\n",
    "df = df.drop(df.loc[df['dob'].isnull()].index)"
   ]
  },
  {
   "cell_type": "code",
   "execution_count": 545,
   "id": "ea49fe06",
   "metadata": {},
   "outputs": [
    {
     "name": "stdout",
     "output_type": "stream",
     "text": [
      "<class 'pandas.core.frame.DataFrame'>\n",
      "Int64Index: 11537 entries, 0 to 11537\n",
      "Data columns (total 11 columns):\n",
      " #   Column       Non-Null Count  Dtype  \n",
      "---  ------       --------------  -----  \n",
      " 0   id           11537 non-null  int64  \n",
      " 1   name         11537 non-null  object \n",
      " 2   nationality  11537 non-null  object \n",
      " 3   sex          11537 non-null  object \n",
      " 4   dob          11537 non-null  object \n",
      " 5   height       11208 non-null  float64\n",
      " 6   weight       10879 non-null  float64\n",
      " 7   sport        11537 non-null  object \n",
      " 8   gold         11537 non-null  int64  \n",
      " 9   silver       11537 non-null  int64  \n",
      " 10  bronze       11537 non-null  int64  \n",
      "dtypes: float64(2), int64(4), object(5)\n",
      "memory usage: 1.1+ MB\n"
     ]
    }
   ],
   "source": [
    "df.info()"
   ]
  },
  {
   "cell_type": "code",
   "execution_count": 546,
   "id": "24e87955",
   "metadata": {},
   "outputs": [
    {
     "data": {
      "text/plain": [
       "<AxesSubplot:xlabel='sport', ylabel='count'>"
      ]
     },
     "execution_count": 546,
     "metadata": {},
     "output_type": "execute_result"
    },
    {
     "data": {
      "image/png": "[encoded data removed]",
      "text/plain": [
       "<Figure size 1440x720 with 1 Axes>"
      ]
     },
     "metadata": {
      "needs_background": "light"
     },
     "output_type": "display_data"
    }
   ],
   "source": [
    "# Veo cuantos deportes distintos participaron\n",
    "\n",
    "plt.figure(figsize=(20,10))\n",
    "sns.countplot(x='sport', data=df)\n"
   ]
  },
  {
   "cell_type": "code",
   "execution_count": 547,
   "id": "01459b12",
   "metadata": {},
   "outputs": [
    {
     "data": {
      "text/plain": [
       "array(['athletics', 'fencing', 'taekwondo', 'cycling', 'triathlon',\n",
       "       'volleyball', 'aquatics', 'rugby sevens', 'wrestling', 'football',\n",
       "       'shooting', 'boxing', 'equestrian', 'rowing', 'judo', 'handball',\n",
       "       'badminton', 'hockey', 'modern pentathlon', 'table tennis',\n",
       "       'canoe', 'basketball', 'golf', 'archery', 'weightlifting',\n",
       "       'sailing', 'tennis', 'gymnastics'], dtype=object)"
      ]
     },
     "execution_count": 547,
     "metadata": {},
     "output_type": "execute_result"
    }
   ],
   "source": [
    "df['sport'].unique()"
   ]
  },
  {
   "cell_type": "code",
   "execution_count": 548,
   "id": "5703b759",
   "metadata": {},
   "outputs": [
    {
     "data": {
      "text/plain": [
       "28"
      ]
     },
     "execution_count": 548,
     "metadata": {},
     "output_type": "execute_result"
    }
   ],
   "source": [
    "len(df['sport'].unique())"
   ]
  },
  {
   "cell_type": "code",
   "execution_count": 549,
   "id": "82d3c53b",
   "metadata": {},
   "outputs": [
    {
     "data": {
      "text/html": [
       "<div>\n",
       "<style scoped>\n",
       "    .dataframe tbody tr th:only-of-type {\n",
       "        vertical-align: middle;\n",
       "    }\n",
       "\n",
       "    .dataframe tbody tr th {\n",
       "        vertical-align: top;\n",
       "    }\n",
       "\n",
       "    .dataframe thead th {\n",
       "        text-align: right;\n",
       "    }\n",
       "</style>\n",
       "<table border=\"1\" class=\"dataframe\">\n",
       "  <thead>\n",
       "    <tr style=\"text-align: right;\">\n",
       "      <th></th>\n",
       "      <th>id</th>\n",
       "      <th>name</th>\n",
       "      <th>nationality</th>\n",
       "      <th>sex</th>\n",
       "      <th>dob</th>\n",
       "      <th>height</th>\n",
       "      <th>weight</th>\n",
       "      <th>sport</th>\n",
       "      <th>gold</th>\n",
       "      <th>silver</th>\n",
       "      <th>bronze</th>\n",
       "    </tr>\n",
       "  </thead>\n",
       "  <tbody>\n",
       "    <tr>\n",
       "      <th>0</th>\n",
       "      <td>736041664</td>\n",
       "      <td>A Jesus Garcia</td>\n",
       "      <td>ESP</td>\n",
       "      <td>male</td>\n",
       "      <td>2069-10-17</td>\n",
       "      <td>1.72</td>\n",
       "      <td>64.0</td>\n",
       "      <td>athletics</td>\n",
       "      <td>0</td>\n",
       "      <td>0</td>\n",
       "      <td>0</td>\n",
       "    </tr>\n",
       "    <tr>\n",
       "      <th>1</th>\n",
       "      <td>532037425</td>\n",
       "      <td>A Lam Shin</td>\n",
       "      <td>KOR</td>\n",
       "      <td>female</td>\n",
       "      <td>1986-09-23</td>\n",
       "      <td>1.68</td>\n",
       "      <td>56.0</td>\n",
       "      <td>fencing</td>\n",
       "      <td>0</td>\n",
       "      <td>0</td>\n",
       "      <td>0</td>\n",
       "    </tr>\n",
       "    <tr>\n",
       "      <th>2</th>\n",
       "      <td>435962603</td>\n",
       "      <td>Aaron Brown</td>\n",
       "      <td>CAN</td>\n",
       "      <td>male</td>\n",
       "      <td>1992-05-27</td>\n",
       "      <td>1.98</td>\n",
       "      <td>79.0</td>\n",
       "      <td>athletics</td>\n",
       "      <td>0</td>\n",
       "      <td>0</td>\n",
       "      <td>1</td>\n",
       "    </tr>\n",
       "    <tr>\n",
       "      <th>3</th>\n",
       "      <td>521041435</td>\n",
       "      <td>Aaron Cook</td>\n",
       "      <td>MDA</td>\n",
       "      <td>male</td>\n",
       "      <td>1991-01-02</td>\n",
       "      <td>1.83</td>\n",
       "      <td>80.0</td>\n",
       "      <td>taekwondo</td>\n",
       "      <td>0</td>\n",
       "      <td>0</td>\n",
       "      <td>0</td>\n",
       "    </tr>\n",
       "    <tr>\n",
       "      <th>4</th>\n",
       "      <td>33922579</td>\n",
       "      <td>Aaron Gate</td>\n",
       "      <td>NZL</td>\n",
       "      <td>male</td>\n",
       "      <td>1990-11-26</td>\n",
       "      <td>1.81</td>\n",
       "      <td>71.0</td>\n",
       "      <td>cycling</td>\n",
       "      <td>0</td>\n",
       "      <td>0</td>\n",
       "      <td>0</td>\n",
       "    </tr>\n",
       "  </tbody>\n",
       "</table>\n",
       "</div>"
      ],
      "text/plain": [
       "          id            name nationality     sex        dob  height  weight  \\\n",
       "0  736041664  A Jesus Garcia         ESP    male 2069-10-17    1.72    64.0   \n",
       "1  532037425      A Lam Shin         KOR  female 1986-09-23    1.68    56.0   \n",
       "2  435962603     Aaron Brown         CAN    male 1992-05-27    1.98    79.0   \n",
       "3  521041435      Aaron Cook         MDA    male 1991-01-02    1.83    80.0   \n",
       "4   33922579      Aaron Gate         NZL    male 1990-11-26    1.81    71.0   \n",
       "\n",
       "       sport  gold  silver  bronze  \n",
       "0  athletics     0       0       0  \n",
       "1    fencing     0       0       0  \n",
       "2  athletics     0       0       1  \n",
       "3  taekwondo     0       0       0  \n",
       "4    cycling     0       0       0  "
      ]
     },
     "execution_count": 549,
     "metadata": {},
     "output_type": "execute_result"
    }
   ],
   "source": [
    "df['dob'] = pd.to_datetime(df['dob'])\n",
    "df.head()"
   ]
  },
  {
   "cell_type": "code",
   "execution_count": 550,
   "id": "76ceba0a",
   "metadata": {},
   "outputs": [
    {
     "data": {
      "text/html": [
       "<div>\n",
       "<style scoped>\n",
       "    .dataframe tbody tr th:only-of-type {\n",
       "        vertical-align: middle;\n",
       "    }\n",
       "\n",
       "    .dataframe tbody tr th {\n",
       "        vertical-align: top;\n",
       "    }\n",
       "\n",
       "    .dataframe thead th {\n",
       "        text-align: right;\n",
       "    }\n",
       "</style>\n",
       "<table border=\"1\" class=\"dataframe\">\n",
       "  <thead>\n",
       "    <tr style=\"text-align: right;\">\n",
       "      <th></th>\n",
       "      <th>id</th>\n",
       "      <th>name</th>\n",
       "      <th>nationality</th>\n",
       "      <th>sex</th>\n",
       "      <th>dob</th>\n",
       "      <th>height</th>\n",
       "      <th>weight</th>\n",
       "      <th>sport</th>\n",
       "      <th>gold</th>\n",
       "      <th>silver</th>\n",
       "      <th>bronze</th>\n",
       "      <th>age</th>\n",
       "    </tr>\n",
       "  </thead>\n",
       "  <tbody>\n",
       "    <tr>\n",
       "      <th>0</th>\n",
       "      <td>736041664</td>\n",
       "      <td>A Jesus Garcia</td>\n",
       "      <td>ESP</td>\n",
       "      <td>male</td>\n",
       "      <td>1969-10-17</td>\n",
       "      <td>1.72</td>\n",
       "      <td>64.0</td>\n",
       "      <td>athletics</td>\n",
       "      <td>0</td>\n",
       "      <td>0</td>\n",
       "      <td>0</td>\n",
       "      <td>47</td>\n",
       "    </tr>\n",
       "    <tr>\n",
       "      <th>1</th>\n",
       "      <td>532037425</td>\n",
       "      <td>A Lam Shin</td>\n",
       "      <td>KOR</td>\n",
       "      <td>female</td>\n",
       "      <td>1986-09-23</td>\n",
       "      <td>1.68</td>\n",
       "      <td>56.0</td>\n",
       "      <td>fencing</td>\n",
       "      <td>0</td>\n",
       "      <td>0</td>\n",
       "      <td>0</td>\n",
       "      <td>30</td>\n",
       "    </tr>\n",
       "    <tr>\n",
       "      <th>2</th>\n",
       "      <td>435962603</td>\n",
       "      <td>Aaron Brown</td>\n",
       "      <td>CAN</td>\n",
       "      <td>male</td>\n",
       "      <td>1992-05-27</td>\n",
       "      <td>1.98</td>\n",
       "      <td>79.0</td>\n",
       "      <td>athletics</td>\n",
       "      <td>0</td>\n",
       "      <td>0</td>\n",
       "      <td>1</td>\n",
       "      <td>24</td>\n",
       "    </tr>\n",
       "    <tr>\n",
       "      <th>3</th>\n",
       "      <td>521041435</td>\n",
       "      <td>Aaron Cook</td>\n",
       "      <td>MDA</td>\n",
       "      <td>male</td>\n",
       "      <td>1991-01-02</td>\n",
       "      <td>1.83</td>\n",
       "      <td>80.0</td>\n",
       "      <td>taekwondo</td>\n",
       "      <td>0</td>\n",
       "      <td>0</td>\n",
       "      <td>0</td>\n",
       "      <td>25</td>\n",
       "    </tr>\n",
       "    <tr>\n",
       "      <th>4</th>\n",
       "      <td>33922579</td>\n",
       "      <td>Aaron Gate</td>\n",
       "      <td>NZL</td>\n",
       "      <td>male</td>\n",
       "      <td>1990-11-26</td>\n",
       "      <td>1.81</td>\n",
       "      <td>71.0</td>\n",
       "      <td>cycling</td>\n",
       "      <td>0</td>\n",
       "      <td>0</td>\n",
       "      <td>0</td>\n",
       "      <td>26</td>\n",
       "    </tr>\n",
       "  </tbody>\n",
       "</table>\n",
       "</div>"
      ],
      "text/plain": [
       "          id            name nationality     sex        dob  height  weight  \\\n",
       "0  736041664  A Jesus Garcia         ESP    male 1969-10-17    1.72    64.0   \n",
       "1  532037425      A Lam Shin         KOR  female 1986-09-23    1.68    56.0   \n",
       "2  435962603     Aaron Brown         CAN    male 1992-05-27    1.98    79.0   \n",
       "3  521041435      Aaron Cook         MDA    male 1991-01-02    1.83    80.0   \n",
       "4   33922579      Aaron Gate         NZL    male 1990-11-26    1.81    71.0   \n",
       "\n",
       "       sport  gold  silver  bronze  age  \n",
       "0  athletics     0       0       0   47  \n",
       "1    fencing     0       0       0   30  \n",
       "2  athletics     0       0       1   24  \n",
       "3  taekwondo     0       0       0   25  \n",
       "4    cycling     0       0       0   26  "
      ]
     },
     "execution_count": 550,
     "metadata": {},
     "output_type": "execute_result"
    }
   ],
   "source": [
    "# en algunas fechas, como por ejemplo año 69, el to_datetime convirtió a 2069 en vez de 1069 \n",
    "future = df['dob'] > pd.to_datetime('2016/01/01')\n",
    "df.loc[future, 'dob'] -= timedelta(days=365.25*100)\n",
    "\n",
    "# Caclculo una columna edad\n",
    "df['age'] = 2016 - df['dob'].dt.year\n",
    "df.head()"
   ]
  },
  {
   "cell_type": "code",
   "execution_count": 551,
   "id": "6954c6ae",
   "metadata": {},
   "outputs": [
    {
     "name": "stdout",
     "output_type": "stream",
     "text": [
      "<class 'pandas.core.frame.DataFrame'>\n",
      "Int64Index: 11537 entries, 0 to 11537\n",
      "Data columns (total 12 columns):\n",
      " #   Column       Non-Null Count  Dtype         \n",
      "---  ------       --------------  -----         \n",
      " 0   id           11537 non-null  int64         \n",
      " 1   name         11537 non-null  object        \n",
      " 2   nationality  11537 non-null  object        \n",
      " 3   sex          11537 non-null  object        \n",
      " 4   dob          11537 non-null  datetime64[ns]\n",
      " 5   height       11208 non-null  float64       \n",
      " 6   weight       10879 non-null  float64       \n",
      " 7   sport        11537 non-null  object        \n",
      " 8   gold         11537 non-null  int64         \n",
      " 9   silver       11537 non-null  int64         \n",
      " 10  bronze       11537 non-null  int64         \n",
      " 11  age          11537 non-null  int64         \n",
      "dtypes: datetime64[ns](1), float64(2), int64(5), object(4)\n",
      "memory usage: 1.4+ MB\n"
     ]
    }
   ],
   "source": [
    "df.info()"
   ]
  },
  {
   "cell_type": "markdown",
   "id": "17e2ab55",
   "metadata": {},
   "source": [
    "Sólo hay Nan en height y weight, los completo con las medianas"
   ]
  },
  {
   "cell_type": "code",
   "execution_count": 552,
   "id": "72837b42",
   "metadata": {},
   "outputs": [
    {
     "name": "stdout",
     "output_type": "stream",
     "text": [
      "La mediana de height para mujeres es:  1.7\n",
      "La mediana de height para hombres es:  1.82\n",
      "La mediana de weight para mujeres es:  61.0\n",
      "La mediana de weight para hombres es:  78.0\n"
     ]
    }
   ],
   "source": [
    "mhf = round(df['height'].loc[(df.sex=='female')].median(),2)\n",
    "mhm = round(df['height'].loc[(df.sex=='male')].median(),2)\n",
    "mwf = round(df['weight'].loc[(df.sex=='female')].median(),2)\n",
    "mwm = round(df['weight'].loc[(df.sex=='male')].median(),2)\n",
    "\n",
    "print('La mediana de height para mujeres es: ', mhf)\n",
    "print('La mediana de height para hombres es: ', mhm)\n",
    "\n",
    "print('La mediana de weight para mujeres es: ', mwf)\n",
    "print('La mediana de weight para hombres es: ', mwm)"
   ]
  },
  {
   "cell_type": "code",
   "execution_count": 553,
   "id": "0a218d46",
   "metadata": {},
   "outputs": [
    {
     "data": {
      "text/html": [
       "<div>\n",
       "<style scoped>\n",
       "    .dataframe tbody tr th:only-of-type {\n",
       "        vertical-align: middle;\n",
       "    }\n",
       "\n",
       "    .dataframe tbody tr th {\n",
       "        vertical-align: top;\n",
       "    }\n",
       "\n",
       "    .dataframe thead th {\n",
       "        text-align: right;\n",
       "    }\n",
       "</style>\n",
       "<table border=\"1\" class=\"dataframe\">\n",
       "  <thead>\n",
       "    <tr style=\"text-align: right;\">\n",
       "      <th></th>\n",
       "      <th>id</th>\n",
       "      <th>name</th>\n",
       "      <th>nationality</th>\n",
       "      <th>sex</th>\n",
       "      <th>dob</th>\n",
       "      <th>height</th>\n",
       "      <th>weight</th>\n",
       "      <th>sport</th>\n",
       "      <th>gold</th>\n",
       "      <th>silver</th>\n",
       "      <th>bronze</th>\n",
       "      <th>age</th>\n",
       "    </tr>\n",
       "  </thead>\n",
       "  <tbody>\n",
       "    <tr>\n",
       "      <th>12</th>\n",
       "      <td>258556239</td>\n",
       "      <td>Abbas Qali</td>\n",
       "      <td>IOA</td>\n",
       "      <td>male</td>\n",
       "      <td>1992-10-11</td>\n",
       "      <td>NaN</td>\n",
       "      <td>NaN</td>\n",
       "      <td>aquatics</td>\n",
       "      <td>0</td>\n",
       "      <td>0</td>\n",
       "      <td>0</td>\n",
       "      <td>24</td>\n",
       "    </tr>\n",
       "    <tr>\n",
       "      <th>47</th>\n",
       "      <td>469953606</td>\n",
       "      <td>Abdoullah Bamoussa</td>\n",
       "      <td>ITA</td>\n",
       "      <td>male</td>\n",
       "      <td>1986-06-08</td>\n",
       "      <td>NaN</td>\n",
       "      <td>NaN</td>\n",
       "      <td>athletics</td>\n",
       "      <td>0</td>\n",
       "      <td>0</td>\n",
       "      <td>0</td>\n",
       "      <td>30</td>\n",
       "    </tr>\n",
       "    <tr>\n",
       "      <th>50</th>\n",
       "      <td>325809293</td>\n",
       "      <td>Abdul Omar</td>\n",
       "      <td>GHA</td>\n",
       "      <td>male</td>\n",
       "      <td>1993-10-03</td>\n",
       "      <td>NaN</td>\n",
       "      <td>NaN</td>\n",
       "      <td>boxing</td>\n",
       "      <td>0</td>\n",
       "      <td>0</td>\n",
       "      <td>0</td>\n",
       "      <td>23</td>\n",
       "    </tr>\n",
       "    <tr>\n",
       "      <th>52</th>\n",
       "      <td>262868423</td>\n",
       "      <td>Abdulaziz Alshatti</td>\n",
       "      <td>IOA</td>\n",
       "      <td>male</td>\n",
       "      <td>1990-10-30</td>\n",
       "      <td>NaN</td>\n",
       "      <td>NaN</td>\n",
       "      <td>fencing</td>\n",
       "      <td>0</td>\n",
       "      <td>0</td>\n",
       "      <td>0</td>\n",
       "      <td>26</td>\n",
       "    </tr>\n",
       "    <tr>\n",
       "      <th>56</th>\n",
       "      <td>897549624</td>\n",
       "      <td>Abdullah Hel Baki</td>\n",
       "      <td>BAN</td>\n",
       "      <td>male</td>\n",
       "      <td>1989-08-01</td>\n",
       "      <td>NaN</td>\n",
       "      <td>NaN</td>\n",
       "      <td>shooting</td>\n",
       "      <td>0</td>\n",
       "      <td>0</td>\n",
       "      <td>0</td>\n",
       "      <td>27</td>\n",
       "    </tr>\n",
       "    <tr>\n",
       "      <th>...</th>\n",
       "      <td>...</td>\n",
       "      <td>...</td>\n",
       "      <td>...</td>\n",
       "      <td>...</td>\n",
       "      <td>...</td>\n",
       "      <td>...</td>\n",
       "      <td>...</td>\n",
       "      <td>...</td>\n",
       "      <td>...</td>\n",
       "      <td>...</td>\n",
       "      <td>...</td>\n",
       "      <td>...</td>\n",
       "    </tr>\n",
       "    <tr>\n",
       "      <th>11031</th>\n",
       "      <td>404382792</td>\n",
       "      <td>Winston Hill</td>\n",
       "      <td>FIJ</td>\n",
       "      <td>male</td>\n",
       "      <td>1993-09-17</td>\n",
       "      <td>NaN</td>\n",
       "      <td>NaN</td>\n",
       "      <td>boxing</td>\n",
       "      <td>0</td>\n",
       "      <td>0</td>\n",
       "      <td>0</td>\n",
       "      <td>23</td>\n",
       "    </tr>\n",
       "    <tr>\n",
       "      <th>11208</th>\n",
       "      <td>550672127</td>\n",
       "      <td>Yemane Haileselassie</td>\n",
       "      <td>ERI</td>\n",
       "      <td>male</td>\n",
       "      <td>1998-02-21</td>\n",
       "      <td>NaN</td>\n",
       "      <td>NaN</td>\n",
       "      <td>athletics</td>\n",
       "      <td>0</td>\n",
       "      <td>0</td>\n",
       "      <td>0</td>\n",
       "      <td>18</td>\n",
       "    </tr>\n",
       "    <tr>\n",
       "      <th>11220</th>\n",
       "      <td>5964702</td>\n",
       "      <td>Yesenia Miranda</td>\n",
       "      <td>ESA</td>\n",
       "      <td>female</td>\n",
       "      <td>1994-03-26</td>\n",
       "      <td>NaN</td>\n",
       "      <td>NaN</td>\n",
       "      <td>athletics</td>\n",
       "      <td>0</td>\n",
       "      <td>0</td>\n",
       "      <td>0</td>\n",
       "      <td>22</td>\n",
       "    </tr>\n",
       "    <tr>\n",
       "      <th>11238</th>\n",
       "      <td>390260480</td>\n",
       "      <td>Yigal Kopinsky</td>\n",
       "      <td>SUR</td>\n",
       "      <td>male</td>\n",
       "      <td>1985-10-16</td>\n",
       "      <td>NaN</td>\n",
       "      <td>NaN</td>\n",
       "      <td>judo</td>\n",
       "      <td>0</td>\n",
       "      <td>0</td>\n",
       "      <td>0</td>\n",
       "      <td>31</td>\n",
       "    </tr>\n",
       "    <tr>\n",
       "      <th>11370</th>\n",
       "      <td>86099624</td>\n",
       "      <td>Yulia Efimova</td>\n",
       "      <td>RUS</td>\n",
       "      <td>female</td>\n",
       "      <td>1992-04-03</td>\n",
       "      <td>NaN</td>\n",
       "      <td>NaN</td>\n",
       "      <td>aquatics</td>\n",
       "      <td>0</td>\n",
       "      <td>2</td>\n",
       "      <td>0</td>\n",
       "      <td>24</td>\n",
       "    </tr>\n",
       "  </tbody>\n",
       "</table>\n",
       "<p>329 rows × 12 columns</p>\n",
       "</div>"
      ],
      "text/plain": [
       "              id                  name nationality     sex        dob  height  \\\n",
       "12     258556239            Abbas Qali         IOA    male 1992-10-11     NaN   \n",
       "47     469953606    Abdoullah Bamoussa         ITA    male 1986-06-08     NaN   \n",
       "50     325809293            Abdul Omar         GHA    male 1993-10-03     NaN   \n",
       "52     262868423    Abdulaziz Alshatti         IOA    male 1990-10-30     NaN   \n",
       "56     897549624     Abdullah Hel Baki         BAN    male 1989-08-01     NaN   \n",
       "...          ...                   ...         ...     ...        ...     ...   \n",
       "11031  404382792          Winston Hill         FIJ    male 1993-09-17     NaN   \n",
       "11208  550672127  Yemane Haileselassie         ERI    male 1998-02-21     NaN   \n",
       "11220    5964702       Yesenia Miranda         ESA  female 1994-03-26     NaN   \n",
       "11238  390260480        Yigal Kopinsky         SUR    male 1985-10-16     NaN   \n",
       "11370   86099624         Yulia Efimova         RUS  female 1992-04-03     NaN   \n",
       "\n",
       "       weight      sport  gold  silver  bronze  age  \n",
       "12        NaN   aquatics     0       0       0   24  \n",
       "47        NaN  athletics     0       0       0   30  \n",
       "50        NaN     boxing     0       0       0   23  \n",
       "52        NaN    fencing     0       0       0   26  \n",
       "56        NaN   shooting     0       0       0   27  \n",
       "...       ...        ...   ...     ...     ...  ...  \n",
       "11031     NaN     boxing     0       0       0   23  \n",
       "11208     NaN  athletics     0       0       0   18  \n",
       "11220     NaN  athletics     0       0       0   22  \n",
       "11238     NaN       judo     0       0       0   31  \n",
       "11370     NaN   aquatics     0       2       0   24  \n",
       "\n",
       "[329 rows x 12 columns]"
      ]
     },
     "execution_count": 553,
     "metadata": {},
     "output_type": "execute_result"
    }
   ],
   "source": [
    "# Calculo las observaciones que tienen height sin datos\n",
    "df.loc[df['height'].isnull()]"
   ]
  },
  {
   "cell_type": "code",
   "execution_count": 554,
   "id": "6c0b6a0e",
   "metadata": {},
   "outputs": [
    {
     "name": "stderr",
     "output_type": "stream",
     "text": [
      "<ipython-input-554-70bf752e6e6a>:6: FutureWarning: DataFrame.mean and DataFrame.median with numeric_only=None will include datetime64 and datetime64tz columns in a future version.\n",
      "  dff.fillna(dff.median(), inplace=True)\n",
      "C:\\ProgramData\\Anaconda3\\lib\\site-packages\\pandas\\core\\series.py:4463: SettingWithCopyWarning: \n",
      "A value is trying to be set on a copy of a slice from a DataFrame\n",
      "\n",
      "See the caveats in the documentation: https://pandas.pydata.org/pandas-docs/stable/user_guide/indexing.html#returning-a-view-versus-a-copy\n",
      "  return super().fillna(\n",
      "<ipython-input-554-70bf752e6e6a>:7: FutureWarning: DataFrame.mean and DataFrame.median with numeric_only=None will include datetime64 and datetime64tz columns in a future version.\n",
      "  dfm.fillna(dfm.median(), inplace=True)\n"
     ]
    },
    {
     "data": {
      "text/html": [
       "<div>\n",
       "<style scoped>\n",
       "    .dataframe tbody tr th:only-of-type {\n",
       "        vertical-align: middle;\n",
       "    }\n",
       "\n",
       "    .dataframe tbody tr th {\n",
       "        vertical-align: top;\n",
       "    }\n",
       "\n",
       "    .dataframe thead th {\n",
       "        text-align: right;\n",
       "    }\n",
       "</style>\n",
       "<table border=\"1\" class=\"dataframe\">\n",
       "  <thead>\n",
       "    <tr style=\"text-align: right;\">\n",
       "      <th></th>\n",
       "      <th>id</th>\n",
       "      <th>name</th>\n",
       "      <th>nationality</th>\n",
       "      <th>sex</th>\n",
       "      <th>dob</th>\n",
       "      <th>height</th>\n",
       "      <th>weight</th>\n",
       "      <th>sport</th>\n",
       "      <th>gold</th>\n",
       "      <th>silver</th>\n",
       "      <th>bronze</th>\n",
       "      <th>age</th>\n",
       "    </tr>\n",
       "  </thead>\n",
       "  <tbody>\n",
       "    <tr>\n",
       "      <th>0</th>\n",
       "      <td>532037425</td>\n",
       "      <td>A Lam Shin</td>\n",
       "      <td>KOR</td>\n",
       "      <td>female</td>\n",
       "      <td>1986-09-23</td>\n",
       "      <td>1.68</td>\n",
       "      <td>56.0</td>\n",
       "      <td>fencing</td>\n",
       "      <td>0</td>\n",
       "      <td>0</td>\n",
       "      <td>0</td>\n",
       "      <td>30</td>\n",
       "    </tr>\n",
       "    <tr>\n",
       "      <th>1</th>\n",
       "      <td>87689776</td>\n",
       "      <td>Aauri Lorena Bokesa</td>\n",
       "      <td>ESP</td>\n",
       "      <td>female</td>\n",
       "      <td>1988-12-14</td>\n",
       "      <td>1.80</td>\n",
       "      <td>62.0</td>\n",
       "      <td>athletics</td>\n",
       "      <td>0</td>\n",
       "      <td>0</td>\n",
       "      <td>0</td>\n",
       "      <td>28</td>\n",
       "    </tr>\n",
       "    <tr>\n",
       "      <th>2</th>\n",
       "      <td>997877719</td>\n",
       "      <td>Ababel Yeshaneh</td>\n",
       "      <td>ETH</td>\n",
       "      <td>female</td>\n",
       "      <td>1991-07-22</td>\n",
       "      <td>1.65</td>\n",
       "      <td>54.0</td>\n",
       "      <td>athletics</td>\n",
       "      <td>0</td>\n",
       "      <td>0</td>\n",
       "      <td>0</td>\n",
       "      <td>25</td>\n",
       "    </tr>\n",
       "    <tr>\n",
       "      <th>3</th>\n",
       "      <td>376068084</td>\n",
       "      <td>Abbey D'Agostino</td>\n",
       "      <td>USA</td>\n",
       "      <td>female</td>\n",
       "      <td>1992-05-25</td>\n",
       "      <td>1.61</td>\n",
       "      <td>49.0</td>\n",
       "      <td>athletics</td>\n",
       "      <td>0</td>\n",
       "      <td>0</td>\n",
       "      <td>0</td>\n",
       "      <td>24</td>\n",
       "    </tr>\n",
       "    <tr>\n",
       "      <th>4</th>\n",
       "      <td>162792594</td>\n",
       "      <td>Abbey Weitzeil</td>\n",
       "      <td>USA</td>\n",
       "      <td>female</td>\n",
       "      <td>1996-12-03</td>\n",
       "      <td>1.78</td>\n",
       "      <td>68.0</td>\n",
       "      <td>aquatics</td>\n",
       "      <td>1</td>\n",
       "      <td>1</td>\n",
       "      <td>0</td>\n",
       "      <td>20</td>\n",
       "    </tr>\n",
       "    <tr>\n",
       "      <th>...</th>\n",
       "      <td>...</td>\n",
       "      <td>...</td>\n",
       "      <td>...</td>\n",
       "      <td>...</td>\n",
       "      <td>...</td>\n",
       "      <td>...</td>\n",
       "      <td>...</td>\n",
       "      <td>...</td>\n",
       "      <td>...</td>\n",
       "      <td>...</td>\n",
       "      <td>...</td>\n",
       "      <td>...</td>\n",
       "    </tr>\n",
       "    <tr>\n",
       "      <th>11532</th>\n",
       "      <td>600541319</td>\n",
       "      <td>Zurabi Datunashvili</td>\n",
       "      <td>GEO</td>\n",
       "      <td>male</td>\n",
       "      <td>1991-06-18</td>\n",
       "      <td>1.83</td>\n",
       "      <td>75.0</td>\n",
       "      <td>wrestling</td>\n",
       "      <td>0</td>\n",
       "      <td>0</td>\n",
       "      <td>0</td>\n",
       "      <td>25</td>\n",
       "    </tr>\n",
       "    <tr>\n",
       "      <th>11533</th>\n",
       "      <td>801825063</td>\n",
       "      <td>Zurabi Iakobishvili</td>\n",
       "      <td>GEO</td>\n",
       "      <td>male</td>\n",
       "      <td>1992-02-04</td>\n",
       "      <td>1.71</td>\n",
       "      <td>68.0</td>\n",
       "      <td>wrestling</td>\n",
       "      <td>0</td>\n",
       "      <td>0</td>\n",
       "      <td>0</td>\n",
       "      <td>24</td>\n",
       "    </tr>\n",
       "    <tr>\n",
       "      <th>11534</th>\n",
       "      <td>88361042</td>\n",
       "      <td>di Xiao</td>\n",
       "      <td>CHN</td>\n",
       "      <td>male</td>\n",
       "      <td>1991-05-14</td>\n",
       "      <td>1.85</td>\n",
       "      <td>100.0</td>\n",
       "      <td>wrestling</td>\n",
       "      <td>0</td>\n",
       "      <td>0</td>\n",
       "      <td>0</td>\n",
       "      <td>25</td>\n",
       "    </tr>\n",
       "    <tr>\n",
       "      <th>11535</th>\n",
       "      <td>900065925</td>\n",
       "      <td>le Quoc Toan Tran</td>\n",
       "      <td>VIE</td>\n",
       "      <td>male</td>\n",
       "      <td>1989-04-05</td>\n",
       "      <td>1.60</td>\n",
       "      <td>56.0</td>\n",
       "      <td>weightlifting</td>\n",
       "      <td>0</td>\n",
       "      <td>0</td>\n",
       "      <td>0</td>\n",
       "      <td>27</td>\n",
       "    </tr>\n",
       "    <tr>\n",
       "      <th>11536</th>\n",
       "      <td>711404576</td>\n",
       "      <td>le Roux Hamman</td>\n",
       "      <td>RSA</td>\n",
       "      <td>male</td>\n",
       "      <td>1992-01-06</td>\n",
       "      <td>1.85</td>\n",
       "      <td>70.0</td>\n",
       "      <td>athletics</td>\n",
       "      <td>0</td>\n",
       "      <td>0</td>\n",
       "      <td>0</td>\n",
       "      <td>24</td>\n",
       "    </tr>\n",
       "  </tbody>\n",
       "</table>\n",
       "<p>11537 rows × 12 columns</p>\n",
       "</div>"
      ],
      "text/plain": [
       "              id                 name nationality     sex        dob  height  \\\n",
       "0      532037425           A Lam Shin         KOR  female 1986-09-23    1.68   \n",
       "1       87689776  Aauri Lorena Bokesa         ESP  female 1988-12-14    1.80   \n",
       "2      997877719      Ababel Yeshaneh         ETH  female 1991-07-22    1.65   \n",
       "3      376068084     Abbey D'Agostino         USA  female 1992-05-25    1.61   \n",
       "4      162792594       Abbey Weitzeil         USA  female 1996-12-03    1.78   \n",
       "...          ...                  ...         ...     ...        ...     ...   \n",
       "11532  600541319  Zurabi Datunashvili         GEO    male 1991-06-18    1.83   \n",
       "11533  801825063  Zurabi Iakobishvili         GEO    male 1992-02-04    1.71   \n",
       "11534   88361042              di Xiao         CHN    male 1991-05-14    1.85   \n",
       "11535  900065925    le Quoc Toan Tran         VIE    male 1989-04-05    1.60   \n",
       "11536  711404576       le Roux Hamman         RSA    male 1992-01-06    1.85   \n",
       "\n",
       "       weight          sport  gold  silver  bronze  age  \n",
       "0        56.0        fencing     0       0       0   30  \n",
       "1        62.0      athletics     0       0       0   28  \n",
       "2        54.0      athletics     0       0       0   25  \n",
       "3        49.0      athletics     0       0       0   24  \n",
       "4        68.0       aquatics     1       1       0   20  \n",
       "...       ...            ...   ...     ...     ...  ...  \n",
       "11532    75.0      wrestling     0       0       0   25  \n",
       "11533    68.0      wrestling     0       0       0   24  \n",
       "11534   100.0      wrestling     0       0       0   25  \n",
       "11535    56.0  weightlifting     0       0       0   27  \n",
       "11536    70.0      athletics     0       0       0   24  \n",
       "\n",
       "[11537 rows x 12 columns]"
      ]
     },
     "execution_count": 554,
     "metadata": {},
     "output_type": "execute_result"
    }
   ],
   "source": [
    "# Divido el dataframe para trabajar con hombres y mujeres\n",
    "dfm = df.loc[df.sex=='male']\n",
    "dff = df.loc[df.sex=='female']\n",
    "\n",
    "# Reemplazo los Nan por las medias\n",
    "dff.fillna(dff.median(), inplace=True)\n",
    "dfm.fillna(dfm.median(), inplace=True)\n",
    "df = pd.concat([dff, dfm], ignore_index=True)\n",
    "\n",
    "df\n"
   ]
  },
  {
   "cell_type": "code",
   "execution_count": 555,
   "id": "fa870255",
   "metadata": {},
   "outputs": [
    {
     "name": "stdout",
     "output_type": "stream",
     "text": [
      "La media de height para mujeres es:  1.7\n"
     ]
    }
   ],
   "source": [
    "# sigo teniendo la misma mediana\n",
    "print('La media de height para mujeres es: ', round(df['height'].loc[(df.sex=='female')].median(),2))"
   ]
  },
  {
   "cell_type": "code",
   "execution_count": 556,
   "id": "21a250d3",
   "metadata": {},
   "outputs": [
    {
     "name": "stdout",
     "output_type": "stream",
     "text": [
      "<class 'pandas.core.frame.DataFrame'>\n",
      "RangeIndex: 11537 entries, 0 to 11536\n",
      "Data columns (total 12 columns):\n",
      " #   Column       Non-Null Count  Dtype         \n",
      "---  ------       --------------  -----         \n",
      " 0   id           11537 non-null  int64         \n",
      " 1   name         11537 non-null  object        \n",
      " 2   nationality  11537 non-null  object        \n",
      " 3   sex          11537 non-null  object        \n",
      " 4   dob          11537 non-null  datetime64[ns]\n",
      " 5   height       11537 non-null  float64       \n",
      " 6   weight       11537 non-null  float64       \n",
      " 7   sport        11537 non-null  object        \n",
      " 8   gold         11537 non-null  int64         \n",
      " 9   silver       11537 non-null  int64         \n",
      " 10  bronze       11537 non-null  int64         \n",
      " 11  age          11537 non-null  int64         \n",
      "dtypes: datetime64[ns](1), float64(2), int64(5), object(4)\n",
      "memory usage: 1.1+ MB\n"
     ]
    }
   ],
   "source": [
    "# No tengo más observaciones con Nan\n",
    "df.info()"
   ]
  },
  {
   "cell_type": "code",
   "execution_count": 557,
   "id": "d0a3c575",
   "metadata": {},
   "outputs": [
    {
     "data": {
      "text/plain": [
       "array([30, 28, 25, 24, 20, 27, 26, 29, 22, 23, 37, 18, 35, 16, 38, 17, 33,\n",
       "       31, 36, 21, 40, 19, 34, 15, 32, 45, 39, 14, 50, 48, 41, 44, 47, 42,\n",
       "       51, 53, 43, 52, 54, 62, 46, 57, 58, 60, 49, 55, 61, 56, 59],\n",
       "      dtype=int64)"
      ]
     },
     "execution_count": 557,
     "metadata": {},
     "output_type": "execute_result"
    }
   ],
   "source": [
    "df['age'].unique()"
   ]
  },
  {
   "cell_type": "code",
   "execution_count": 558,
   "id": "2f6413e7",
   "metadata": {},
   "outputs": [
    {
     "data": {
      "text/html": [
       "<div>\n",
       "<style scoped>\n",
       "    .dataframe tbody tr th:only-of-type {\n",
       "        vertical-align: middle;\n",
       "    }\n",
       "\n",
       "    .dataframe tbody tr th {\n",
       "        vertical-align: top;\n",
       "    }\n",
       "\n",
       "    .dataframe thead th {\n",
       "        text-align: right;\n",
       "    }\n",
       "</style>\n",
       "<table border=\"1\" class=\"dataframe\">\n",
       "  <thead>\n",
       "    <tr style=\"text-align: right;\">\n",
       "      <th></th>\n",
       "      <th>id</th>\n",
       "      <th>name</th>\n",
       "      <th>nationality</th>\n",
       "      <th>sex</th>\n",
       "      <th>dob</th>\n",
       "      <th>height</th>\n",
       "      <th>weight</th>\n",
       "      <th>sport</th>\n",
       "      <th>gold</th>\n",
       "      <th>silver</th>\n",
       "      <th>bronze</th>\n",
       "      <th>age</th>\n",
       "      <th>rango</th>\n",
       "    </tr>\n",
       "  </thead>\n",
       "  <tbody>\n",
       "    <tr>\n",
       "      <th>0</th>\n",
       "      <td>532037425</td>\n",
       "      <td>A Lam Shin</td>\n",
       "      <td>KOR</td>\n",
       "      <td>female</td>\n",
       "      <td>1986-09-23</td>\n",
       "      <td>1.68</td>\n",
       "      <td>56.0</td>\n",
       "      <td>fencing</td>\n",
       "      <td>0</td>\n",
       "      <td>0</td>\n",
       "      <td>0</td>\n",
       "      <td>30</td>\n",
       "      <td>joven</td>\n",
       "    </tr>\n",
       "    <tr>\n",
       "      <th>1</th>\n",
       "      <td>87689776</td>\n",
       "      <td>Aauri Lorena Bokesa</td>\n",
       "      <td>ESP</td>\n",
       "      <td>female</td>\n",
       "      <td>1988-12-14</td>\n",
       "      <td>1.80</td>\n",
       "      <td>62.0</td>\n",
       "      <td>athletics</td>\n",
       "      <td>0</td>\n",
       "      <td>0</td>\n",
       "      <td>0</td>\n",
       "      <td>28</td>\n",
       "      <td>joven</td>\n",
       "    </tr>\n",
       "    <tr>\n",
       "      <th>2</th>\n",
       "      <td>997877719</td>\n",
       "      <td>Ababel Yeshaneh</td>\n",
       "      <td>ETH</td>\n",
       "      <td>female</td>\n",
       "      <td>1991-07-22</td>\n",
       "      <td>1.65</td>\n",
       "      <td>54.0</td>\n",
       "      <td>athletics</td>\n",
       "      <td>0</td>\n",
       "      <td>0</td>\n",
       "      <td>0</td>\n",
       "      <td>25</td>\n",
       "      <td>joven</td>\n",
       "    </tr>\n",
       "    <tr>\n",
       "      <th>3</th>\n",
       "      <td>376068084</td>\n",
       "      <td>Abbey D'Agostino</td>\n",
       "      <td>USA</td>\n",
       "      <td>female</td>\n",
       "      <td>1992-05-25</td>\n",
       "      <td>1.61</td>\n",
       "      <td>49.0</td>\n",
       "      <td>athletics</td>\n",
       "      <td>0</td>\n",
       "      <td>0</td>\n",
       "      <td>0</td>\n",
       "      <td>24</td>\n",
       "      <td>joven</td>\n",
       "    </tr>\n",
       "    <tr>\n",
       "      <th>4</th>\n",
       "      <td>162792594</td>\n",
       "      <td>Abbey Weitzeil</td>\n",
       "      <td>USA</td>\n",
       "      <td>female</td>\n",
       "      <td>1996-12-03</td>\n",
       "      <td>1.78</td>\n",
       "      <td>68.0</td>\n",
       "      <td>aquatics</td>\n",
       "      <td>1</td>\n",
       "      <td>1</td>\n",
       "      <td>0</td>\n",
       "      <td>20</td>\n",
       "      <td>adolescente</td>\n",
       "    </tr>\n",
       "    <tr>\n",
       "      <th>...</th>\n",
       "      <td>...</td>\n",
       "      <td>...</td>\n",
       "      <td>...</td>\n",
       "      <td>...</td>\n",
       "      <td>...</td>\n",
       "      <td>...</td>\n",
       "      <td>...</td>\n",
       "      <td>...</td>\n",
       "      <td>...</td>\n",
       "      <td>...</td>\n",
       "      <td>...</td>\n",
       "      <td>...</td>\n",
       "      <td>...</td>\n",
       "    </tr>\n",
       "    <tr>\n",
       "      <th>11532</th>\n",
       "      <td>600541319</td>\n",
       "      <td>Zurabi Datunashvili</td>\n",
       "      <td>GEO</td>\n",
       "      <td>male</td>\n",
       "      <td>1991-06-18</td>\n",
       "      <td>1.83</td>\n",
       "      <td>75.0</td>\n",
       "      <td>wrestling</td>\n",
       "      <td>0</td>\n",
       "      <td>0</td>\n",
       "      <td>0</td>\n",
       "      <td>25</td>\n",
       "      <td>joven</td>\n",
       "    </tr>\n",
       "    <tr>\n",
       "      <th>11533</th>\n",
       "      <td>801825063</td>\n",
       "      <td>Zurabi Iakobishvili</td>\n",
       "      <td>GEO</td>\n",
       "      <td>male</td>\n",
       "      <td>1992-02-04</td>\n",
       "      <td>1.71</td>\n",
       "      <td>68.0</td>\n",
       "      <td>wrestling</td>\n",
       "      <td>0</td>\n",
       "      <td>0</td>\n",
       "      <td>0</td>\n",
       "      <td>24</td>\n",
       "      <td>joven</td>\n",
       "    </tr>\n",
       "    <tr>\n",
       "      <th>11534</th>\n",
       "      <td>88361042</td>\n",
       "      <td>di Xiao</td>\n",
       "      <td>CHN</td>\n",
       "      <td>male</td>\n",
       "      <td>1991-05-14</td>\n",
       "      <td>1.85</td>\n",
       "      <td>100.0</td>\n",
       "      <td>wrestling</td>\n",
       "      <td>0</td>\n",
       "      <td>0</td>\n",
       "      <td>0</td>\n",
       "      <td>25</td>\n",
       "      <td>joven</td>\n",
       "    </tr>\n",
       "    <tr>\n",
       "      <th>11535</th>\n",
       "      <td>900065925</td>\n",
       "      <td>le Quoc Toan Tran</td>\n",
       "      <td>VIE</td>\n",
       "      <td>male</td>\n",
       "      <td>1989-04-05</td>\n",
       "      <td>1.60</td>\n",
       "      <td>56.0</td>\n",
       "      <td>weightlifting</td>\n",
       "      <td>0</td>\n",
       "      <td>0</td>\n",
       "      <td>0</td>\n",
       "      <td>27</td>\n",
       "      <td>joven</td>\n",
       "    </tr>\n",
       "    <tr>\n",
       "      <th>11536</th>\n",
       "      <td>711404576</td>\n",
       "      <td>le Roux Hamman</td>\n",
       "      <td>RSA</td>\n",
       "      <td>male</td>\n",
       "      <td>1992-01-06</td>\n",
       "      <td>1.85</td>\n",
       "      <td>70.0</td>\n",
       "      <td>athletics</td>\n",
       "      <td>0</td>\n",
       "      <td>0</td>\n",
       "      <td>0</td>\n",
       "      <td>24</td>\n",
       "      <td>joven</td>\n",
       "    </tr>\n",
       "  </tbody>\n",
       "</table>\n",
       "<p>11537 rows × 13 columns</p>\n",
       "</div>"
      ],
      "text/plain": [
       "              id                 name nationality     sex        dob  height  \\\n",
       "0      532037425           A Lam Shin         KOR  female 1986-09-23    1.68   \n",
       "1       87689776  Aauri Lorena Bokesa         ESP  female 1988-12-14    1.80   \n",
       "2      997877719      Ababel Yeshaneh         ETH  female 1991-07-22    1.65   \n",
       "3      376068084     Abbey D'Agostino         USA  female 1992-05-25    1.61   \n",
       "4      162792594       Abbey Weitzeil         USA  female 1996-12-03    1.78   \n",
       "...          ...                  ...         ...     ...        ...     ...   \n",
       "11532  600541319  Zurabi Datunashvili         GEO    male 1991-06-18    1.83   \n",
       "11533  801825063  Zurabi Iakobishvili         GEO    male 1992-02-04    1.71   \n",
       "11534   88361042              di Xiao         CHN    male 1991-05-14    1.85   \n",
       "11535  900065925    le Quoc Toan Tran         VIE    male 1989-04-05    1.60   \n",
       "11536  711404576       le Roux Hamman         RSA    male 1992-01-06    1.85   \n",
       "\n",
       "       weight          sport  gold  silver  bronze  age        rango  \n",
       "0        56.0        fencing     0       0       0   30        joven  \n",
       "1        62.0      athletics     0       0       0   28        joven  \n",
       "2        54.0      athletics     0       0       0   25        joven  \n",
       "3        49.0      athletics     0       0       0   24        joven  \n",
       "4        68.0       aquatics     1       1       0   20  adolescente  \n",
       "...       ...            ...   ...     ...     ...  ...          ...  \n",
       "11532    75.0      wrestling     0       0       0   25        joven  \n",
       "11533    68.0      wrestling     0       0       0   24        joven  \n",
       "11534   100.0      wrestling     0       0       0   25        joven  \n",
       "11535    56.0  weightlifting     0       0       0   27        joven  \n",
       "11536    70.0      athletics     0       0       0   24        joven  \n",
       "\n",
       "[11537 rows x 13 columns]"
      ]
     },
     "execution_count": 558,
     "metadata": {},
     "output_type": "execute_result"
    }
   ],
   "source": [
    "# Hago un binning por grupos de edades\n",
    "bins = [0, 22, 30, 100]\n",
    "labels = ['adolescente','joven','mayor']\n",
    "df['rango'] = pd.cut(df['age'], bins=bins, labels=labels)\n",
    "\n",
    "df"
   ]
  },
  {
   "cell_type": "code",
   "execution_count": 559,
   "id": "b8d1e28d",
   "metadata": {},
   "outputs": [
    {
     "data": {
      "text/plain": [
       "<AxesSubplot:xlabel='rango', ylabel='count'>"
      ]
     },
     "execution_count": 559,
     "metadata": {},
     "output_type": "execute_result"
    },
    {
     "data": {
      "image/png": "[encoded data removed]",
      "text/plain": [
       "<Figure size 432x288 with 1 Axes>"
      ]
     },
     "metadata": {
      "needs_background": "light"
     },
     "output_type": "display_data"
    }
   ],
   "source": [
    "sns.countplot(x='rango', data=df)\n"
   ]
  },
  {
   "cell_type": "code",
   "execution_count": 560,
   "id": "c29316d4",
   "metadata": {},
   "outputs": [],
   "source": [
    "# Guardo una copia de este df preprocesado para no perderlo\n",
    "df_prep = df.copy()\n"
   ]
  },
  {
   "cell_type": "markdown",
   "id": "99e1f1a9",
   "metadata": {},
   "source": [
    "## Exercici 1\n",
    "Normalizar atributos categóricos en dummy"
   ]
  },
  {
   "cell_type": "code",
   "execution_count": 561,
   "id": "a02312be",
   "metadata": {},
   "outputs": [],
   "source": [
    "fm = pd.get_dummies(df['sex'])\n"
   ]
  },
  {
   "cell_type": "code",
   "execution_count": 562,
   "id": "b66fe25c",
   "metadata": {},
   "outputs": [],
   "source": [
    "df = pd.concat([df, fm], axis=1)\n",
    "df = df.drop(['sex'], axis =1)"
   ]
  },
  {
   "cell_type": "code",
   "execution_count": 563,
   "id": "8258226b",
   "metadata": {},
   "outputs": [],
   "source": [
    "rangos = pd.get_dummies(df['rango'])\n",
    "df = pd.concat([df, rangos], axis=1)\n",
    "df = df.drop(['rango'], axis =1)"
   ]
  },
  {
   "cell_type": "code",
   "execution_count": 564,
   "id": "b466edcf",
   "metadata": {},
   "outputs": [],
   "source": [
    "# inicializar el Scaler\n",
    "ss = StandardScaler()\n",
    "# transformar los datos\n",
    "Xstd = ss.fit_transform(df[['height','weight','age']].values)"
   ]
  },
  {
   "cell_type": "code",
   "execution_count": 565,
   "id": "55653f2e",
   "metadata": {},
   "outputs": [
    {
     "data": {
      "text/plain": [
       "array([[-0.77428281, -1.01854747,  0.61405878],\n",
       "       [ 0.30150585, -0.63927758,  0.24221351],\n",
       "       [-1.04322997, -1.14497076, -0.3155544 ],\n",
       "       ...,\n",
       "       [ 0.74975112,  1.76276504, -0.3155544 ],\n",
       "       [-1.49147524, -1.01854747,  0.05629087],\n",
       "       [ 0.74975112, -0.1335844 , -0.50147704]])"
      ]
     },
     "execution_count": 565,
     "metadata": {},
     "output_type": "execute_result"
    }
   ],
   "source": [
    "Xstd"
   ]
  },
  {
   "cell_type": "code",
   "execution_count": 566,
   "id": "f0f70f77",
   "metadata": {},
   "outputs": [],
   "source": [
    "Xstd = pd.DataFrame(Xstd)\n",
    "df = pd.concat([df, Xstd], axis=1)\n",
    "\n"
   ]
  },
  {
   "cell_type": "code",
   "execution_count": 567,
   "id": "56995de3",
   "metadata": {},
   "outputs": [],
   "source": [
    "df = df.drop(['height','weight','age'], axis =1)"
   ]
  },
  {
   "cell_type": "code",
   "execution_count": 568,
   "id": "7bbce9fb",
   "metadata": {},
   "outputs": [
    {
     "data": {
      "text/html": [
       "<div>\n",
       "<style scoped>\n",
       "    .dataframe tbody tr th:only-of-type {\n",
       "        vertical-align: middle;\n",
       "    }\n",
       "\n",
       "    .dataframe tbody tr th {\n",
       "        vertical-align: top;\n",
       "    }\n",
       "\n",
       "    .dataframe thead th {\n",
       "        text-align: right;\n",
       "    }\n",
       "</style>\n",
       "<table border=\"1\" class=\"dataframe\">\n",
       "  <thead>\n",
       "    <tr style=\"text-align: right;\">\n",
       "      <th></th>\n",
       "      <th>id</th>\n",
       "      <th>name</th>\n",
       "      <th>nationality</th>\n",
       "      <th>dob</th>\n",
       "      <th>sport</th>\n",
       "      <th>gold</th>\n",
       "      <th>silver</th>\n",
       "      <th>bronze</th>\n",
       "      <th>female</th>\n",
       "      <th>male</th>\n",
       "      <th>adolescente</th>\n",
       "      <th>joven</th>\n",
       "      <th>mayor</th>\n",
       "      <th>height</th>\n",
       "      <th>weight</th>\n",
       "      <th>age</th>\n",
       "    </tr>\n",
       "  </thead>\n",
       "  <tbody>\n",
       "    <tr>\n",
       "      <th>0</th>\n",
       "      <td>532037425</td>\n",
       "      <td>A Lam Shin</td>\n",
       "      <td>KOR</td>\n",
       "      <td>1986-09-23</td>\n",
       "      <td>fencing</td>\n",
       "      <td>0</td>\n",
       "      <td>0</td>\n",
       "      <td>0</td>\n",
       "      <td>1</td>\n",
       "      <td>0</td>\n",
       "      <td>0</td>\n",
       "      <td>1</td>\n",
       "      <td>0</td>\n",
       "      <td>-0.774283</td>\n",
       "      <td>-1.018547</td>\n",
       "      <td>0.614059</td>\n",
       "    </tr>\n",
       "    <tr>\n",
       "      <th>1</th>\n",
       "      <td>87689776</td>\n",
       "      <td>Aauri Lorena Bokesa</td>\n",
       "      <td>ESP</td>\n",
       "      <td>1988-12-14</td>\n",
       "      <td>athletics</td>\n",
       "      <td>0</td>\n",
       "      <td>0</td>\n",
       "      <td>0</td>\n",
       "      <td>1</td>\n",
       "      <td>0</td>\n",
       "      <td>0</td>\n",
       "      <td>1</td>\n",
       "      <td>0</td>\n",
       "      <td>0.301506</td>\n",
       "      <td>-0.639278</td>\n",
       "      <td>0.242214</td>\n",
       "    </tr>\n",
       "    <tr>\n",
       "      <th>2</th>\n",
       "      <td>997877719</td>\n",
       "      <td>Ababel Yeshaneh</td>\n",
       "      <td>ETH</td>\n",
       "      <td>1991-07-22</td>\n",
       "      <td>athletics</td>\n",
       "      <td>0</td>\n",
       "      <td>0</td>\n",
       "      <td>0</td>\n",
       "      <td>1</td>\n",
       "      <td>0</td>\n",
       "      <td>0</td>\n",
       "      <td>1</td>\n",
       "      <td>0</td>\n",
       "      <td>-1.043230</td>\n",
       "      <td>-1.144971</td>\n",
       "      <td>-0.315554</td>\n",
       "    </tr>\n",
       "    <tr>\n",
       "      <th>3</th>\n",
       "      <td>376068084</td>\n",
       "      <td>Abbey D'Agostino</td>\n",
       "      <td>USA</td>\n",
       "      <td>1992-05-25</td>\n",
       "      <td>athletics</td>\n",
       "      <td>0</td>\n",
       "      <td>0</td>\n",
       "      <td>0</td>\n",
       "      <td>1</td>\n",
       "      <td>0</td>\n",
       "      <td>0</td>\n",
       "      <td>1</td>\n",
       "      <td>0</td>\n",
       "      <td>-1.401826</td>\n",
       "      <td>-1.461029</td>\n",
       "      <td>-0.501477</td>\n",
       "    </tr>\n",
       "    <tr>\n",
       "      <th>4</th>\n",
       "      <td>162792594</td>\n",
       "      <td>Abbey Weitzeil</td>\n",
       "      <td>USA</td>\n",
       "      <td>1996-12-03</td>\n",
       "      <td>aquatics</td>\n",
       "      <td>1</td>\n",
       "      <td>1</td>\n",
       "      <td>0</td>\n",
       "      <td>1</td>\n",
       "      <td>0</td>\n",
       "      <td>1</td>\n",
       "      <td>0</td>\n",
       "      <td>0</td>\n",
       "      <td>0.122208</td>\n",
       "      <td>-0.260008</td>\n",
       "      <td>-1.245168</td>\n",
       "    </tr>\n",
       "    <tr>\n",
       "      <th>...</th>\n",
       "      <td>...</td>\n",
       "      <td>...</td>\n",
       "      <td>...</td>\n",
       "      <td>...</td>\n",
       "      <td>...</td>\n",
       "      <td>...</td>\n",
       "      <td>...</td>\n",
       "      <td>...</td>\n",
       "      <td>...</td>\n",
       "      <td>...</td>\n",
       "      <td>...</td>\n",
       "      <td>...</td>\n",
       "      <td>...</td>\n",
       "      <td>...</td>\n",
       "      <td>...</td>\n",
       "      <td>...</td>\n",
       "    </tr>\n",
       "    <tr>\n",
       "      <th>11532</th>\n",
       "      <td>600541319</td>\n",
       "      <td>Zurabi Datunashvili</td>\n",
       "      <td>GEO</td>\n",
       "      <td>1991-06-18</td>\n",
       "      <td>wrestling</td>\n",
       "      <td>0</td>\n",
       "      <td>0</td>\n",
       "      <td>0</td>\n",
       "      <td>0</td>\n",
       "      <td>1</td>\n",
       "      <td>0</td>\n",
       "      <td>1</td>\n",
       "      <td>0</td>\n",
       "      <td>0.570453</td>\n",
       "      <td>0.182474</td>\n",
       "      <td>-0.315554</td>\n",
       "    </tr>\n",
       "    <tr>\n",
       "      <th>11533</th>\n",
       "      <td>801825063</td>\n",
       "      <td>Zurabi Iakobishvili</td>\n",
       "      <td>GEO</td>\n",
       "      <td>1992-02-04</td>\n",
       "      <td>wrestling</td>\n",
       "      <td>0</td>\n",
       "      <td>0</td>\n",
       "      <td>0</td>\n",
       "      <td>0</td>\n",
       "      <td>1</td>\n",
       "      <td>0</td>\n",
       "      <td>1</td>\n",
       "      <td>0</td>\n",
       "      <td>-0.505336</td>\n",
       "      <td>-0.260008</td>\n",
       "      <td>-0.501477</td>\n",
       "    </tr>\n",
       "    <tr>\n",
       "      <th>11534</th>\n",
       "      <td>88361042</td>\n",
       "      <td>di Xiao</td>\n",
       "      <td>CHN</td>\n",
       "      <td>1991-05-14</td>\n",
       "      <td>wrestling</td>\n",
       "      <td>0</td>\n",
       "      <td>0</td>\n",
       "      <td>0</td>\n",
       "      <td>0</td>\n",
       "      <td>1</td>\n",
       "      <td>0</td>\n",
       "      <td>1</td>\n",
       "      <td>0</td>\n",
       "      <td>0.749751</td>\n",
       "      <td>1.762765</td>\n",
       "      <td>-0.315554</td>\n",
       "    </tr>\n",
       "    <tr>\n",
       "      <th>11535</th>\n",
       "      <td>900065925</td>\n",
       "      <td>le Quoc Toan Tran</td>\n",
       "      <td>VIE</td>\n",
       "      <td>1989-04-05</td>\n",
       "      <td>weightlifting</td>\n",
       "      <td>0</td>\n",
       "      <td>0</td>\n",
       "      <td>0</td>\n",
       "      <td>0</td>\n",
       "      <td>1</td>\n",
       "      <td>0</td>\n",
       "      <td>1</td>\n",
       "      <td>0</td>\n",
       "      <td>-1.491475</td>\n",
       "      <td>-1.018547</td>\n",
       "      <td>0.056291</td>\n",
       "    </tr>\n",
       "    <tr>\n",
       "      <th>11536</th>\n",
       "      <td>711404576</td>\n",
       "      <td>le Roux Hamman</td>\n",
       "      <td>RSA</td>\n",
       "      <td>1992-01-06</td>\n",
       "      <td>athletics</td>\n",
       "      <td>0</td>\n",
       "      <td>0</td>\n",
       "      <td>0</td>\n",
       "      <td>0</td>\n",
       "      <td>1</td>\n",
       "      <td>0</td>\n",
       "      <td>1</td>\n",
       "      <td>0</td>\n",
       "      <td>0.749751</td>\n",
       "      <td>-0.133584</td>\n",
       "      <td>-0.501477</td>\n",
       "    </tr>\n",
       "  </tbody>\n",
       "</table>\n",
       "<p>11537 rows × 16 columns</p>\n",
       "</div>"
      ],
      "text/plain": [
       "              id                 name nationality        dob          sport  \\\n",
       "0      532037425           A Lam Shin         KOR 1986-09-23        fencing   \n",
       "1       87689776  Aauri Lorena Bokesa         ESP 1988-12-14      athletics   \n",
       "2      997877719      Ababel Yeshaneh         ETH 1991-07-22      athletics   \n",
       "3      376068084     Abbey D'Agostino         USA 1992-05-25      athletics   \n",
       "4      162792594       Abbey Weitzeil         USA 1996-12-03       aquatics   \n",
       "...          ...                  ...         ...        ...            ...   \n",
       "11532  600541319  Zurabi Datunashvili         GEO 1991-06-18      wrestling   \n",
       "11533  801825063  Zurabi Iakobishvili         GEO 1992-02-04      wrestling   \n",
       "11534   88361042              di Xiao         CHN 1991-05-14      wrestling   \n",
       "11535  900065925    le Quoc Toan Tran         VIE 1989-04-05  weightlifting   \n",
       "11536  711404576       le Roux Hamman         RSA 1992-01-06      athletics   \n",
       "\n",
       "       gold  silver  bronze  female  male  adolescente  joven  mayor  \\\n",
       "0         0       0       0       1     0            0      1      0   \n",
       "1         0       0       0       1     0            0      1      0   \n",
       "2         0       0       0       1     0            0      1      0   \n",
       "3         0       0       0       1     0            0      1      0   \n",
       "4         1       1       0       1     0            1      0      0   \n",
       "...     ...     ...     ...     ...   ...          ...    ...    ...   \n",
       "11532     0       0       0       0     1            0      1      0   \n",
       "11533     0       0       0       0     1            0      1      0   \n",
       "11534     0       0       0       0     1            0      1      0   \n",
       "11535     0       0       0       0     1            0      1      0   \n",
       "11536     0       0       0       0     1            0      1      0   \n",
       "\n",
       "         height    weight       age  \n",
       "0     -0.774283 -1.018547  0.614059  \n",
       "1      0.301506 -0.639278  0.242214  \n",
       "2     -1.043230 -1.144971 -0.315554  \n",
       "3     -1.401826 -1.461029 -0.501477  \n",
       "4      0.122208 -0.260008 -1.245168  \n",
       "...         ...       ...       ...  \n",
       "11532  0.570453  0.182474 -0.315554  \n",
       "11533 -0.505336 -0.260008 -0.501477  \n",
       "11534  0.749751  1.762765 -0.315554  \n",
       "11535 -1.491475 -1.018547  0.056291  \n",
       "11536  0.749751 -0.133584 -0.501477  \n",
       "\n",
       "[11537 rows x 16 columns]"
      ]
     },
     "execution_count": 568,
     "metadata": {},
     "output_type": "execute_result"
    }
   ],
   "source": [
    "df = df.rename(columns={df.columns[13]: \"height\", df.columns[14]: \"weight\", df.columns[15]: \"age\"})\n",
    "df"
   ]
  },
  {
   "cell_type": "markdown",
   "id": "abe42fa6",
   "metadata": {},
   "source": [
    "## Exercici 2\n",
    "Aplicar el análisis de componentes principales\n",
    "\n",
    "Me gustaría estimar, a partir del sexo, peso, altura y edad de un deportista la probabilidad de sacar una medalla de oro. Pero necesito realmente todas esas variables? Aplico PCA a las variables numéricas"
   ]
  },
  {
   "cell_type": "code",
   "execution_count": 569,
   "id": "af7254d1",
   "metadata": {},
   "outputs": [
    {
     "data": {
      "text/html": [
       "<div>\n",
       "<style scoped>\n",
       "    .dataframe tbody tr th:only-of-type {\n",
       "        vertical-align: middle;\n",
       "    }\n",
       "\n",
       "    .dataframe tbody tr th {\n",
       "        vertical-align: top;\n",
       "    }\n",
       "\n",
       "    .dataframe thead th {\n",
       "        text-align: right;\n",
       "    }\n",
       "</style>\n",
       "<table border=\"1\" class=\"dataframe\">\n",
       "  <thead>\n",
       "    <tr style=\"text-align: right;\">\n",
       "      <th></th>\n",
       "      <th>id</th>\n",
       "      <th>name</th>\n",
       "      <th>nationality</th>\n",
       "      <th>dob</th>\n",
       "      <th>sport</th>\n",
       "      <th>gold</th>\n",
       "      <th>silver</th>\n",
       "      <th>bronze</th>\n",
       "      <th>female</th>\n",
       "      <th>male</th>\n",
       "      <th>adolescente</th>\n",
       "      <th>joven</th>\n",
       "      <th>mayor</th>\n",
       "      <th>height</th>\n",
       "      <th>weight</th>\n",
       "      <th>age</th>\n",
       "    </tr>\n",
       "  </thead>\n",
       "  <tbody>\n",
       "    <tr>\n",
       "      <th>0</th>\n",
       "      <td>532037425</td>\n",
       "      <td>A Lam Shin</td>\n",
       "      <td>KOR</td>\n",
       "      <td>1986-09-23</td>\n",
       "      <td>fencing</td>\n",
       "      <td>0</td>\n",
       "      <td>0</td>\n",
       "      <td>0</td>\n",
       "      <td>1</td>\n",
       "      <td>0</td>\n",
       "      <td>0</td>\n",
       "      <td>1</td>\n",
       "      <td>0</td>\n",
       "      <td>-0.774283</td>\n",
       "      <td>-1.018547</td>\n",
       "      <td>0.614059</td>\n",
       "    </tr>\n",
       "    <tr>\n",
       "      <th>1</th>\n",
       "      <td>87689776</td>\n",
       "      <td>Aauri Lorena Bokesa</td>\n",
       "      <td>ESP</td>\n",
       "      <td>1988-12-14</td>\n",
       "      <td>athletics</td>\n",
       "      <td>0</td>\n",
       "      <td>0</td>\n",
       "      <td>0</td>\n",
       "      <td>1</td>\n",
       "      <td>0</td>\n",
       "      <td>0</td>\n",
       "      <td>1</td>\n",
       "      <td>0</td>\n",
       "      <td>0.301506</td>\n",
       "      <td>-0.639278</td>\n",
       "      <td>0.242214</td>\n",
       "    </tr>\n",
       "    <tr>\n",
       "      <th>2</th>\n",
       "      <td>997877719</td>\n",
       "      <td>Ababel Yeshaneh</td>\n",
       "      <td>ETH</td>\n",
       "      <td>1991-07-22</td>\n",
       "      <td>athletics</td>\n",
       "      <td>0</td>\n",
       "      <td>0</td>\n",
       "      <td>0</td>\n",
       "      <td>1</td>\n",
       "      <td>0</td>\n",
       "      <td>0</td>\n",
       "      <td>1</td>\n",
       "      <td>0</td>\n",
       "      <td>-1.043230</td>\n",
       "      <td>-1.144971</td>\n",
       "      <td>-0.315554</td>\n",
       "    </tr>\n",
       "    <tr>\n",
       "      <th>3</th>\n",
       "      <td>376068084</td>\n",
       "      <td>Abbey D'Agostino</td>\n",
       "      <td>USA</td>\n",
       "      <td>1992-05-25</td>\n",
       "      <td>athletics</td>\n",
       "      <td>0</td>\n",
       "      <td>0</td>\n",
       "      <td>0</td>\n",
       "      <td>1</td>\n",
       "      <td>0</td>\n",
       "      <td>0</td>\n",
       "      <td>1</td>\n",
       "      <td>0</td>\n",
       "      <td>-1.401826</td>\n",
       "      <td>-1.461029</td>\n",
       "      <td>-0.501477</td>\n",
       "    </tr>\n",
       "    <tr>\n",
       "      <th>4</th>\n",
       "      <td>162792594</td>\n",
       "      <td>Abbey Weitzeil</td>\n",
       "      <td>USA</td>\n",
       "      <td>1996-12-03</td>\n",
       "      <td>aquatics</td>\n",
       "      <td>1</td>\n",
       "      <td>1</td>\n",
       "      <td>0</td>\n",
       "      <td>1</td>\n",
       "      <td>0</td>\n",
       "      <td>1</td>\n",
       "      <td>0</td>\n",
       "      <td>0</td>\n",
       "      <td>0.122208</td>\n",
       "      <td>-0.260008</td>\n",
       "      <td>-1.245168</td>\n",
       "    </tr>\n",
       "  </tbody>\n",
       "</table>\n",
       "</div>"
      ],
      "text/plain": [
       "          id                 name nationality        dob      sport  gold  \\\n",
       "0  532037425           A Lam Shin         KOR 1986-09-23    fencing     0   \n",
       "1   87689776  Aauri Lorena Bokesa         ESP 1988-12-14  athletics     0   \n",
       "2  997877719      Ababel Yeshaneh         ETH 1991-07-22  athletics     0   \n",
       "3  376068084     Abbey D'Agostino         USA 1992-05-25  athletics     0   \n",
       "4  162792594       Abbey Weitzeil         USA 1996-12-03   aquatics     1   \n",
       "\n",
       "   silver  bronze  female  male  adolescente  joven  mayor    height  \\\n",
       "0       0       0       1     0            0      1      0 -0.774283   \n",
       "1       0       0       1     0            0      1      0  0.301506   \n",
       "2       0       0       1     0            0      1      0 -1.043230   \n",
       "3       0       0       1     0            0      1      0 -1.401826   \n",
       "4       1       0       1     0            1      0      0  0.122208   \n",
       "\n",
       "     weight       age  \n",
       "0 -1.018547  0.614059  \n",
       "1 -0.639278  0.242214  \n",
       "2 -1.144971 -0.315554  \n",
       "3 -1.461029 -0.501477  \n",
       "4 -0.260008 -1.245168  "
      ]
     },
     "execution_count": 569,
     "metadata": {},
     "output_type": "execute_result"
    }
   ],
   "source": [
    "df.head()"
   ]
  },
  {
   "cell_type": "markdown",
   "id": "ac078439",
   "metadata": {},
   "source": [
    "Un requerimiento de PCA es que los datos estén estandarizados. Pero ya lo hice en el ejercicio anterior."
   ]
  },
  {
   "cell_type": "code",
   "execution_count": 570,
   "id": "18ce7962",
   "metadata": {},
   "outputs": [
    {
     "data": {
      "image/png": "[encoded data removed]",
      "text/plain": [
       "<Figure size 432x288 with 1 Axes>"
      ]
     },
     "metadata": {
      "needs_background": "light"
     },
     "output_type": "display_data"
    }
   ],
   "source": [
    "# Si quiero visualizar las med  allas de bronce a partir de altura y peso:\n",
    "fig = df.plot(kind = 'scatter', x='height', y='weight')\n",
    "fig.set_title('Relación altura / peso', fontsize=16, weight=\"bold\")\n",
    "fig.set_xlabel(\"Altura del atleta\", fontsize=14, weight = \"bold\")\n",
    "fig.set_ylabel('Peso del atleta',  fontsize=14, weight=\"bold\")\n",
    "plt.show()"
   ]
  },
  {
   "cell_type": "code",
   "execution_count": 571,
   "id": "57653213",
   "metadata": {},
   "outputs": [
    {
     "data": {
      "image/png": "[encoded data removed]",
      "text/plain": [
       "<Figure size 432x288 with 1 Axes>"
      ]
     },
     "metadata": {
      "needs_background": "light"
     },
     "output_type": "display_data"
    }
   ],
   "source": [
    "# Si agrego cuales tuvieron medalla de bronce:\n",
    "fig = sns.scatterplot(data=df, x=\"height\", y=\"weight\", hue=\"bronze\")\n",
    "fig.set_title('Relación altura / peso', fontsize=16, weight=\"bold\")\n",
    "fig.set_xlabel(\"Altura del atleta\", fontsize=14, weight = \"bold\")\n",
    "fig.set_ylabel('Peso del atleta',  fontsize=14, weight=\"bold\")\n",
    "plt.show()"
   ]
  },
  {
   "cell_type": "code",
   "execution_count": 572,
   "id": "c052fa54",
   "metadata": {},
   "outputs": [
    {
     "data": {
      "image/png": "[encoded data removed]",
      "text/plain": [
       "<Figure size 720x720 with 1 Axes>"
      ]
     },
     "metadata": {
      "needs_background": "light"
     },
     "output_type": "display_data"
    }
   ],
   "source": [
    "# Si agrego el dato de la edad:\n",
    "fig = plt.figure(figsize=(10, 10))\n",
    "ax = fig.add_subplot(111, projection='3d')\n",
    "ax.scatter(df['height'], df['weight'], df['age'], c=df['bronze'])\n",
    "ax.set_xlabel('Altura')\n",
    "ax.set_ylabel('Peso')\n",
    "ax.set_zlabel('Edad')\n",
    "plt.show()"
   ]
  },
  {
   "cell_type": "code",
   "execution_count": 573,
   "id": "1d05859c",
   "metadata": {},
   "outputs": [
    {
     "data": {
      "text/plain": [
       "array([[-0.77428281, -1.01854747,  0.61405878],\n",
       "       [ 0.30150585, -0.63927758,  0.24221351],\n",
       "       [-1.04322997, -1.14497076, -0.3155544 ],\n",
       "       ...,\n",
       "       [ 0.74975112,  1.76276504, -0.3155544 ],\n",
       "       [-1.49147524, -1.01854747,  0.05629087],\n",
       "       [ 0.74975112, -0.1335844 , -0.50147704]])"
      ]
     },
     "execution_count": 573,
     "metadata": {},
     "output_type": "execute_result"
    }
   ],
   "source": [
    "# Voy a bajar la dimensionalidad en 1 para poder tener un gráfico mejor\n",
    "features = ['height', 'weight', 'age']\n",
    "# Separating out the features\n",
    "x = df.loc[:, features].values\n",
    "# Separating out the target\n",
    "y = df.loc[:,['bronze']].values\n",
    "x"
   ]
  },
  {
   "cell_type": "code",
   "execution_count": 574,
   "id": "8ca6091d",
   "metadata": {},
   "outputs": [],
   "source": [
    "# aplico PCA para reducir una dimensión\n",
    "from sklearn.decomposition import PCA\n",
    "# creo una instancia diciendo que voy a querer 2 componentes\n",
    "pca = PCA(n_components=2)\n",
    "principalComponents = pca.fit_transform(x)\n",
    "principalDf = pd.DataFrame(data = principalComponents\n",
    "             , columns = ['pc1', 'pc2'])"
   ]
  },
  {
   "cell_type": "code",
   "execution_count": 575,
   "id": "e5413f82",
   "metadata": {},
   "outputs": [
    {
     "data": {
      "text/html": [
       "<div>\n",
       "<style scoped>\n",
       "    .dataframe tbody tr th:only-of-type {\n",
       "        vertical-align: middle;\n",
       "    }\n",
       "\n",
       "    .dataframe tbody tr th {\n",
       "        vertical-align: top;\n",
       "    }\n",
       "\n",
       "    .dataframe thead th {\n",
       "        text-align: right;\n",
       "    }\n",
       "</style>\n",
       "<table border=\"1\" class=\"dataframe\">\n",
       "  <thead>\n",
       "    <tr style=\"text-align: right;\">\n",
       "      <th></th>\n",
       "      <th>pc1</th>\n",
       "      <th>pc2</th>\n",
       "      <th>bronze</th>\n",
       "    </tr>\n",
       "  </thead>\n",
       "  <tbody>\n",
       "    <tr>\n",
       "      <th>0</th>\n",
       "      <td>-1.155957</td>\n",
       "      <td>0.799344</td>\n",
       "      <td>0</td>\n",
       "    </tr>\n",
       "    <tr>\n",
       "      <th>1</th>\n",
       "      <td>-0.199559</td>\n",
       "      <td>0.253912</td>\n",
       "      <td>0</td>\n",
       "    </tr>\n",
       "    <tr>\n",
       "      <th>2</th>\n",
       "      <td>-1.577835</td>\n",
       "      <td>-0.070824</td>\n",
       "      <td>0</td>\n",
       "    </tr>\n",
       "    <tr>\n",
       "      <th>3</th>\n",
       "      <td>-2.078092</td>\n",
       "      <td>-0.178358</td>\n",
       "      <td>0</td>\n",
       "    </tr>\n",
       "    <tr>\n",
       "      <th>4</th>\n",
       "      <td>-0.292554</td>\n",
       "      <td>-1.222877</td>\n",
       "      <td>0</td>\n",
       "    </tr>\n",
       "    <tr>\n",
       "      <th>...</th>\n",
       "      <td>...</td>\n",
       "      <td>...</td>\n",
       "      <td>...</td>\n",
       "    </tr>\n",
       "    <tr>\n",
       "      <th>11532</th>\n",
       "      <td>0.475496</td>\n",
       "      <td>-0.404441</td>\n",
       "      <td>0</td>\n",
       "    </tr>\n",
       "    <tr>\n",
       "      <th>11533</th>\n",
       "      <td>-0.612788</td>\n",
       "      <td>-0.404024</td>\n",
       "      <td>0</td>\n",
       "    </tr>\n",
       "    <tr>\n",
       "      <th>11534</th>\n",
       "      <td>1.706846</td>\n",
       "      <td>-0.566142</td>\n",
       "      <td>0</td>\n",
       "    </tr>\n",
       "    <tr>\n",
       "      <th>11535</th>\n",
       "      <td>-1.743092</td>\n",
       "      <td>0.345785</td>\n",
       "      <td>0</td>\n",
       "    </tr>\n",
       "    <tr>\n",
       "      <th>11536</th>\n",
       "      <td>0.349870</td>\n",
       "      <td>-0.584691</td>\n",
       "      <td>0</td>\n",
       "    </tr>\n",
       "  </tbody>\n",
       "</table>\n",
       "<p>11537 rows × 3 columns</p>\n",
       "</div>"
      ],
      "text/plain": [
       "            pc1       pc2  bronze\n",
       "0     -1.155957  0.799344       0\n",
       "1     -0.199559  0.253912       0\n",
       "2     -1.577835 -0.070824       0\n",
       "3     -2.078092 -0.178358       0\n",
       "4     -0.292554 -1.222877       0\n",
       "...         ...       ...     ...\n",
       "11532  0.475496 -0.404441       0\n",
       "11533 -0.612788 -0.404024       0\n",
       "11534  1.706846 -0.566142       0\n",
       "11535 -1.743092  0.345785       0\n",
       "11536  0.349870 -0.584691       0\n",
       "\n",
       "[11537 rows x 3 columns]"
      ]
     },
     "execution_count": 575,
     "metadata": {},
     "output_type": "execute_result"
    }
   ],
   "source": [
    "finalDf = pd.concat([principalDf, df[['bronze']]], axis = 1)\n",
    "finalDf\n"
   ]
  },
  {
   "cell_type": "code",
   "execution_count": 576,
   "id": "ad2dcb3f",
   "metadata": {},
   "outputs": [
    {
     "data": {
      "image/png": "[encoded data removed]",
      "text/plain": [
       "<Figure size 432x288 with 1 Axes>"
      ]
     },
     "metadata": {
      "needs_background": "light"
     },
     "output_type": "display_data"
    }
   ],
   "source": [
    "# repito el gráfico en 2 dimensiones\n",
    "fig = sns.scatterplot(data=finalDf, x=\"pc1\", y=\"pc2\", hue=\"bronze\")\n",
    "fig.set_title('Relación de las principales componentes con la medalla de bronce', fontsize=16, weight=\"bold\")\n",
    "fig.set_xlabel(\"PC1\", fontsize=14, weight = \"bold\")\n",
    "fig.set_ylabel('PC2',  fontsize=14, weight=\"bold\")\n",
    "plt.show()"
   ]
  },
  {
   "cell_type": "markdown",
   "id": "8c529885",
   "metadata": {},
   "source": [
    "A primera vista pareciera que no hay relación entre las tres variables medidas y ganar una medalla de bronce... Pero es fiable este gráfico? \n"
   ]
  },
  {
   "cell_type": "code",
   "execution_count": 577,
   "id": "ab2e5514",
   "metadata": {},
   "outputs": [
    {
     "name": "stdout",
     "output_type": "stream",
     "text": [
      "Explained variance ratio:\n",
      "PC1: 58.980%, PC2: 32.713%\n"
     ]
    }
   ],
   "source": [
    "# Explained variance ratio\n",
    "print(f'Explained variance ratio:')\n",
    "print(*[f'PC{i+1}: {100*x:.3f}%' for i, x in enumerate(pca.explained_variance_ratio_)], sep=', ')"
   ]
  },
  {
   "cell_type": "markdown",
   "id": "f1a8fbaa",
   "metadata": {},
   "source": [
    "Estas dos variables numéricas no llegan a reflejar el 92% de la variabilidad (58.92 + 32.72 = 91.64), por lo tanto la reducción de dimensión no nos sirve, y debemos conservar las 3 variables.\n"
   ]
  },
  {
   "cell_type": "code",
   "execution_count": 578,
   "id": "a9c9cb23",
   "metadata": {},
   "outputs": [
    {
     "data": {
      "text/plain": [
       "array([[-0.77428281, -1.01854747,  0.61405878],\n",
       "       [ 0.30150585, -0.63927758,  0.24221351],\n",
       "       [-1.04322997, -1.14497076, -0.3155544 ],\n",
       "       ...,\n",
       "       [ 0.74975112,  1.76276504, -0.3155544 ],\n",
       "       [-1.49147524, -1.01854747,  0.05629087],\n",
       "       [ 0.74975112, -0.1335844 , -0.50147704]])"
      ]
     },
     "execution_count": 578,
     "metadata": {},
     "output_type": "execute_result"
    }
   ],
   "source": [
    "x"
   ]
  },
  {
   "cell_type": "code",
   "execution_count": 579,
   "id": "5acf0995",
   "metadata": {},
   "outputs": [
    {
     "data": {
      "text/plain": [
       "array([0.58979844, 0.32713376, 0.0830678 ])"
      ]
     },
     "execution_count": 579,
     "metadata": {},
     "output_type": "execute_result"
    }
   ],
   "source": [
    "# visto de otra manera, consultamos cuántos factores se necesita conservar:\n",
    "pca2 = PCA(.95)\n",
    "train_img = pca2.fit_transform(x)\n",
    "\n",
    "pca2.explained_variance_ratio_\n",
    "\n"
   ]
  },
  {
   "cell_type": "markdown",
   "id": "ddb804f3",
   "metadata": {},
   "source": [
    "Para conservar el 95% de la variabilidad necesitamos los 3 atributos"
   ]
  },
  {
   "cell_type": "code",
   "execution_count": 580,
   "id": "882ee10c",
   "metadata": {},
   "outputs": [
    {
     "data": {
      "image/png": "[encoded data removed]",
      "text/plain": [
       "<Figure size 432x288 with 1 Axes>"
      ]
     },
     "metadata": {
      "needs_background": "light"
     },
     "output_type": "display_data"
    }
   ],
   "source": [
    "# Cumulative explained variance ratio\n",
    "x = range(0,4)\n",
    "y = np.pad(np.cumsum(pca2.explained_variance_ratio_), (1,0))*100\n",
    "plt.plot(x,y)\n",
    "plt.xlim(0,3);\n",
    "plt.ylim(0,100);\n",
    "plt.xlabel('Number of components');\n",
    "plt.annotate(y[2], (x[2], y[2]), (2.5,80), arrowprops = dict())\n",
    "plt.title('Cumulative explained variance ratio (%)');\n",
    "plt.ylabel('Explained variance (%)');\n"
   ]
  },
  {
   "cell_type": "code",
   "execution_count": 581,
   "id": "1fa24351",
   "metadata": {},
   "outputs": [
    {
     "data": {
      "text/plain": [
       "array([[-1.15595686,  0.7993444 , -0.19706157],\n",
       "       [-0.19955887,  0.25391215, -0.67376098],\n",
       "       [-1.57783468, -0.07082366, -0.06544569],\n",
       "       ...,\n",
       "       [ 1.70684583, -0.5661424 ,  0.73157502],\n",
       "       [-1.74309169,  0.34578511,  0.3273683 ],\n",
       "       [ 0.34986952, -0.58469115, -0.60595242]])"
      ]
     },
     "execution_count": 581,
     "metadata": {},
     "output_type": "execute_result"
    }
   ],
   "source": [
    "train_img"
   ]
  },
  {
   "cell_type": "code",
   "execution_count": 582,
   "id": "1ee2436e",
   "metadata": {},
   "outputs": [
    {
     "data": {
      "text/html": [
       "<div>\n",
       "<style scoped>\n",
       "    .dataframe tbody tr th:only-of-type {\n",
       "        vertical-align: middle;\n",
       "    }\n",
       "\n",
       "    .dataframe tbody tr th {\n",
       "        vertical-align: top;\n",
       "    }\n",
       "\n",
       "    .dataframe thead th {\n",
       "        text-align: right;\n",
       "    }\n",
       "</style>\n",
       "<table border=\"1\" class=\"dataframe\">\n",
       "  <thead>\n",
       "    <tr style=\"text-align: right;\">\n",
       "      <th></th>\n",
       "      <th>PCA_1</th>\n",
       "      <th>PCA_2</th>\n",
       "      <th>PCA_3</th>\n",
       "    </tr>\n",
       "  </thead>\n",
       "  <tbody>\n",
       "    <tr>\n",
       "      <th>0</th>\n",
       "      <td>-1.155957</td>\n",
       "      <td>0.799344</td>\n",
       "      <td>-0.197062</td>\n",
       "    </tr>\n",
       "    <tr>\n",
       "      <th>1</th>\n",
       "      <td>-0.199559</td>\n",
       "      <td>0.253912</td>\n",
       "      <td>-0.673761</td>\n",
       "    </tr>\n",
       "    <tr>\n",
       "      <th>2</th>\n",
       "      <td>-1.577835</td>\n",
       "      <td>-0.070824</td>\n",
       "      <td>-0.065446</td>\n",
       "    </tr>\n",
       "    <tr>\n",
       "      <th>3</th>\n",
       "      <td>-2.078092</td>\n",
       "      <td>-0.178358</td>\n",
       "      <td>-0.030375</td>\n",
       "    </tr>\n",
       "    <tr>\n",
       "      <th>4</th>\n",
       "      <td>-0.292554</td>\n",
       "      <td>-1.222877</td>\n",
       "      <td>-0.227957</td>\n",
       "    </tr>\n",
       "    <tr>\n",
       "      <th>...</th>\n",
       "      <td>...</td>\n",
       "      <td>...</td>\n",
       "      <td>...</td>\n",
       "    </tr>\n",
       "    <tr>\n",
       "      <th>11532</th>\n",
       "      <td>0.475496</td>\n",
       "      <td>-0.404441</td>\n",
       "      <td>-0.261953</td>\n",
       "    </tr>\n",
       "    <tr>\n",
       "      <th>11533</th>\n",
       "      <td>-0.612788</td>\n",
       "      <td>-0.404024</td>\n",
       "      <td>0.188954</td>\n",
       "    </tr>\n",
       "    <tr>\n",
       "      <th>11534</th>\n",
       "      <td>1.706846</td>\n",
       "      <td>-0.566142</td>\n",
       "      <td>0.731575</td>\n",
       "    </tr>\n",
       "    <tr>\n",
       "      <th>11535</th>\n",
       "      <td>-1.743092</td>\n",
       "      <td>0.345785</td>\n",
       "      <td>0.327368</td>\n",
       "    </tr>\n",
       "    <tr>\n",
       "      <th>11536</th>\n",
       "      <td>0.349870</td>\n",
       "      <td>-0.584691</td>\n",
       "      <td>-0.605952</td>\n",
       "    </tr>\n",
       "  </tbody>\n",
       "</table>\n",
       "<p>11537 rows × 3 columns</p>\n",
       "</div>"
      ],
      "text/plain": [
       "          PCA_1     PCA_2     PCA_3\n",
       "0     -1.155957  0.799344 -0.197062\n",
       "1     -0.199559  0.253912 -0.673761\n",
       "2     -1.577835 -0.070824 -0.065446\n",
       "3     -2.078092 -0.178358 -0.030375\n",
       "4     -0.292554 -1.222877 -0.227957\n",
       "...         ...       ...       ...\n",
       "11532  0.475496 -0.404441 -0.261953\n",
       "11533 -0.612788 -0.404024  0.188954\n",
       "11534  1.706846 -0.566142  0.731575\n",
       "11535 -1.743092  0.345785  0.327368\n",
       "11536  0.349870 -0.584691 -0.605952\n",
       "\n",
       "[11537 rows x 3 columns]"
      ]
     },
     "execution_count": 582,
     "metadata": {},
     "output_type": "execute_result"
    }
   ],
   "source": [
    "pca_columns = [f'PCA_{x}' for x in range(1, 4)]\n",
    "df_pca = pd.DataFrame(train_img, columns=pca_columns)\n",
    "df_pca"
   ]
  },
  {
   "cell_type": "markdown",
   "id": "e5ede7d8",
   "metadata": {},
   "source": [
    "## Exercici 3\n",
    "Normalizando con outliers"
   ]
  },
  {
   "cell_type": "markdown",
   "id": "a6288730",
   "metadata": {},
   "source": [
    "Analizo los outliers para ver si tiene sentido borrarlos"
   ]
  },
  {
   "cell_type": "code",
   "execution_count": 583,
   "id": "2d767b95",
   "metadata": {},
   "outputs": [
    {
     "data": {
      "image/png": "[encoded data removed]",
      "text/plain": [
       "<Figure size 432x288 with 1 Axes>"
      ]
     },
     "metadata": {
      "needs_background": "light"
     },
     "output_type": "display_data"
    }
   ],
   "source": [
    "sns.boxplot(data=df_prep['age'], orient='h');\n",
    "plt.title('Datos originales de edad (preprocesados, sin estandarizar)');"
   ]
  },
  {
   "cell_type": "code",
   "execution_count": 584,
   "id": "b3ed4cd3",
   "metadata": {},
   "outputs": [
    {
     "data": {
      "text/plain": [
       "62"
      ]
     },
     "execution_count": 584,
     "metadata": {},
     "output_type": "execute_result"
    }
   ],
   "source": [
    "df_prep['age'].max()"
   ]
  },
  {
   "cell_type": "markdown",
   "id": "f5b8849c",
   "metadata": {},
   "source": [
    "Por más de que sean outliers son valores perfectamente razonables para una edad, no los puedo eliminar"
   ]
  },
  {
   "cell_type": "code",
   "execution_count": 585,
   "id": "7d1c71d2",
   "metadata": {},
   "outputs": [
    {
     "data": {
      "image/png": "[encoded data removed]",
      "text/plain": [
       "<Figure size 432x288 with 1 Axes>"
      ]
     },
     "metadata": {
      "needs_background": "light"
     },
     "output_type": "display_data"
    }
   ],
   "source": [
    "sns.boxplot(data=df_prep['height'], orient='h');\n",
    "plt.title('Datos originales de altura (preprocesados, sin estandarizar)');"
   ]
  },
  {
   "cell_type": "code",
   "execution_count": 586,
   "id": "c06b780a",
   "metadata": {},
   "outputs": [
    {
     "data": {
      "text/plain": [
       "2.21"
      ]
     },
     "execution_count": 586,
     "metadata": {},
     "output_type": "execute_result"
    }
   ],
   "source": [
    "df_prep['height'].max()\n"
   ]
  },
  {
   "cell_type": "markdown",
   "id": "378c97f3",
   "metadata": {},
   "source": [
    "Es una altura normal"
   ]
  },
  {
   "cell_type": "code",
   "execution_count": 587,
   "id": "d90ddec8",
   "metadata": {},
   "outputs": [
    {
     "data": {
      "text/html": [
       "<div>\n",
       "<style scoped>\n",
       "    .dataframe tbody tr th:only-of-type {\n",
       "        vertical-align: middle;\n",
       "    }\n",
       "\n",
       "    .dataframe tbody tr th {\n",
       "        vertical-align: top;\n",
       "    }\n",
       "\n",
       "    .dataframe thead th {\n",
       "        text-align: right;\n",
       "    }\n",
       "</style>\n",
       "<table border=\"1\" class=\"dataframe\">\n",
       "  <thead>\n",
       "    <tr style=\"text-align: right;\">\n",
       "      <th></th>\n",
       "      <th>id</th>\n",
       "      <th>name</th>\n",
       "      <th>nationality</th>\n",
       "      <th>sex</th>\n",
       "      <th>dob</th>\n",
       "      <th>height</th>\n",
       "      <th>weight</th>\n",
       "      <th>sport</th>\n",
       "      <th>gold</th>\n",
       "      <th>silver</th>\n",
       "      <th>bronze</th>\n",
       "      <th>age</th>\n",
       "      <th>rango</th>\n",
       "    </tr>\n",
       "  </thead>\n",
       "  <tbody>\n",
       "    <tr>\n",
       "      <th>3578</th>\n",
       "      <td>817788274</td>\n",
       "      <td>Nancy Chepkwemoi</td>\n",
       "      <td>KEN</td>\n",
       "      <td>female</td>\n",
       "      <td>1993-10-08</td>\n",
       "      <td>1.21</td>\n",
       "      <td>47.0</td>\n",
       "      <td>athletics</td>\n",
       "      <td>0</td>\n",
       "      <td>0</td>\n",
       "      <td>0</td>\n",
       "      <td>23</td>\n",
       "      <td>joven</td>\n",
       "    </tr>\n",
       "  </tbody>\n",
       "</table>\n",
       "</div>"
      ],
      "text/plain": [
       "             id              name nationality     sex        dob  height  \\\n",
       "3578  817788274  Nancy Chepkwemoi         KEN  female 1993-10-08    1.21   \n",
       "\n",
       "      weight      sport  gold  silver  bronze  age  rango  \n",
       "3578    47.0  athletics     0       0       0   23  joven  "
      ]
     },
     "execution_count": 587,
     "metadata": {},
     "output_type": "execute_result"
    }
   ],
   "source": [
    "df_prep[df_prep['height'] < 1.30] "
   ]
  },
  {
   "cell_type": "markdown",
   "id": "0355a151",
   "metadata": {},
   "source": [
    "Lo verifiqué en internet y es su altura. Por lo tanto los outliers son valores reales y no erroes de carga."
   ]
  },
  {
   "cell_type": "code",
   "execution_count": 588,
   "id": "d2e45ee4",
   "metadata": {},
   "outputs": [
    {
     "data": {
      "image/png": "[encoded data removed]",
      "text/plain": [
       "<Figure size 432x288 with 1 Axes>"
      ]
     },
     "metadata": {
      "needs_background": "light"
     },
     "output_type": "display_data"
    }
   ],
   "source": [
    "sns.boxplot(data=df_prep['weight'], orient='h');\n",
    "plt.title('Datos originales de peso (preprocesados, sin estandarizar)');"
   ]
  },
  {
   "cell_type": "code",
   "execution_count": 589,
   "id": "b3efcb76",
   "metadata": {},
   "outputs": [
    {
     "data": {
      "text/html": [
       "<div>\n",
       "<style scoped>\n",
       "    .dataframe tbody tr th:only-of-type {\n",
       "        vertical-align: middle;\n",
       "    }\n",
       "\n",
       "    .dataframe tbody tr th {\n",
       "        vertical-align: top;\n",
       "    }\n",
       "\n",
       "    .dataframe thead th {\n",
       "        text-align: right;\n",
       "    }\n",
       "</style>\n",
       "<table border=\"1\" class=\"dataframe\">\n",
       "  <thead>\n",
       "    <tr style=\"text-align: right;\">\n",
       "      <th></th>\n",
       "      <th>id</th>\n",
       "      <th>name</th>\n",
       "      <th>nationality</th>\n",
       "      <th>sex</th>\n",
       "      <th>dob</th>\n",
       "      <th>height</th>\n",
       "      <th>weight</th>\n",
       "      <th>sport</th>\n",
       "      <th>gold</th>\n",
       "      <th>silver</th>\n",
       "      <th>bronze</th>\n",
       "      <th>age</th>\n",
       "      <th>rango</th>\n",
       "    </tr>\n",
       "  </thead>\n",
       "  <tbody>\n",
       "    <tr>\n",
       "      <th>5941</th>\n",
       "      <td>57339699</td>\n",
       "      <td>Behdad Salimikordasiabi</td>\n",
       "      <td>IRI</td>\n",
       "      <td>male</td>\n",
       "      <td>1989-12-08</td>\n",
       "      <td>1.92</td>\n",
       "      <td>170.0</td>\n",
       "      <td>weightlifting</td>\n",
       "      <td>0</td>\n",
       "      <td>0</td>\n",
       "      <td>0</td>\n",
       "      <td>27</td>\n",
       "      <td>joven</td>\n",
       "    </tr>\n",
       "    <tr>\n",
       "      <th>6491</th>\n",
       "      <td>306635640</td>\n",
       "      <td>Daniel Natea</td>\n",
       "      <td>ROU</td>\n",
       "      <td>male</td>\n",
       "      <td>1992-04-21</td>\n",
       "      <td>2.03</td>\n",
       "      <td>170.0</td>\n",
       "      <td>judo</td>\n",
       "      <td>0</td>\n",
       "      <td>0</td>\n",
       "      <td>0</td>\n",
       "      <td>24</td>\n",
       "      <td>joven</td>\n",
       "    </tr>\n",
       "    <tr>\n",
       "      <th>6500</th>\n",
       "      <td>285374253</td>\n",
       "      <td>Daniel Stahl</td>\n",
       "      <td>SWE</td>\n",
       "      <td>male</td>\n",
       "      <td>1992-08-27</td>\n",
       "      <td>2.00</td>\n",
       "      <td>155.0</td>\n",
       "      <td>athletics</td>\n",
       "      <td>0</td>\n",
       "      <td>0</td>\n",
       "      <td>0</td>\n",
       "      <td>24</td>\n",
       "      <td>joven</td>\n",
       "    </tr>\n",
       "    <tr>\n",
       "      <th>6536</th>\n",
       "      <td>933764156</td>\n",
       "      <td>Darrell Wesh</td>\n",
       "      <td>HAI</td>\n",
       "      <td>male</td>\n",
       "      <td>1992-01-21</td>\n",
       "      <td>1.83</td>\n",
       "      <td>160.0</td>\n",
       "      <td>athletics</td>\n",
       "      <td>0</td>\n",
       "      <td>0</td>\n",
       "      <td>0</td>\n",
       "      <td>24</td>\n",
       "      <td>joven</td>\n",
       "    </tr>\n",
       "    <tr>\n",
       "      <th>7063</th>\n",
       "      <td>344465413</td>\n",
       "      <td>Fernando Salas Manguis</td>\n",
       "      <td>ECU</td>\n",
       "      <td>male</td>\n",
       "      <td>1988-02-10</td>\n",
       "      <td>1.86</td>\n",
       "      <td>163.0</td>\n",
       "      <td>weightlifting</td>\n",
       "      <td>0</td>\n",
       "      <td>0</td>\n",
       "      <td>0</td>\n",
       "      <td>28</td>\n",
       "      <td>joven</td>\n",
       "    </tr>\n",
       "    <tr>\n",
       "      <th>7064</th>\n",
       "      <td>427314005</td>\n",
       "      <td>Fernando Saraiva Reis</td>\n",
       "      <td>BRA</td>\n",
       "      <td>male</td>\n",
       "      <td>1990-03-10</td>\n",
       "      <td>1.85</td>\n",
       "      <td>155.0</td>\n",
       "      <td>weightlifting</td>\n",
       "      <td>0</td>\n",
       "      <td>0</td>\n",
       "      <td>0</td>\n",
       "      <td>26</td>\n",
       "      <td>joven</td>\n",
       "    </tr>\n",
       "    <tr>\n",
       "      <th>7658</th>\n",
       "      <td>784382414</td>\n",
       "      <td>Ivan Emilianov</td>\n",
       "      <td>MDA</td>\n",
       "      <td>male</td>\n",
       "      <td>1977-02-19</td>\n",
       "      <td>2.02</td>\n",
       "      <td>165.0</td>\n",
       "      <td>athletics</td>\n",
       "      <td>0</td>\n",
       "      <td>0</td>\n",
       "      <td>0</td>\n",
       "      <td>39</td>\n",
       "      <td>mayor</td>\n",
       "    </tr>\n",
       "    <tr>\n",
       "      <th>8532</th>\n",
       "      <td>592699944</td>\n",
       "      <td>Lasha Talakhadze</td>\n",
       "      <td>GEO</td>\n",
       "      <td>male</td>\n",
       "      <td>1993-10-02</td>\n",
       "      <td>1.97</td>\n",
       "      <td>157.0</td>\n",
       "      <td>weightlifting</td>\n",
       "      <td>1</td>\n",
       "      <td>0</td>\n",
       "      <td>0</td>\n",
       "      <td>23</td>\n",
       "      <td>joven</td>\n",
       "    </tr>\n",
       "    <tr>\n",
       "      <th>9018</th>\n",
       "      <td>620850796</td>\n",
       "      <td>Mason Finley</td>\n",
       "      <td>USA</td>\n",
       "      <td>male</td>\n",
       "      <td>1990-10-07</td>\n",
       "      <td>2.04</td>\n",
       "      <td>157.0</td>\n",
       "      <td>athletics</td>\n",
       "      <td>0</td>\n",
       "      <td>0</td>\n",
       "      <td>0</td>\n",
       "      <td>26</td>\n",
       "      <td>joven</td>\n",
       "    </tr>\n",
       "    <tr>\n",
       "      <th>9902</th>\n",
       "      <td>208033661</td>\n",
       "      <td>Peter Nagy</td>\n",
       "      <td>HUN</td>\n",
       "      <td>male</td>\n",
       "      <td>1986-01-16</td>\n",
       "      <td>1.92</td>\n",
       "      <td>159.0</td>\n",
       "      <td>weightlifting</td>\n",
       "      <td>0</td>\n",
       "      <td>0</td>\n",
       "      <td>0</td>\n",
       "      <td>30</td>\n",
       "      <td>joven</td>\n",
       "    </tr>\n",
       "    <tr>\n",
       "      <th>10039</th>\n",
       "      <td>501691381</td>\n",
       "      <td>Rafael Silva</td>\n",
       "      <td>BRA</td>\n",
       "      <td>male</td>\n",
       "      <td>1987-05-11</td>\n",
       "      <td>2.03</td>\n",
       "      <td>160.0</td>\n",
       "      <td>judo</td>\n",
       "      <td>0</td>\n",
       "      <td>0</td>\n",
       "      <td>1</td>\n",
       "      <td>29</td>\n",
       "      <td>joven</td>\n",
       "    </tr>\n",
       "    <tr>\n",
       "      <th>10315</th>\n",
       "      <td>209686890</td>\n",
       "      <td>Ruben Aleksanyan</td>\n",
       "      <td>ARM</td>\n",
       "      <td>male</td>\n",
       "      <td>1990-03-14</td>\n",
       "      <td>1.80</td>\n",
       "      <td>152.0</td>\n",
       "      <td>weightlifting</td>\n",
       "      <td>0</td>\n",
       "      <td>0</td>\n",
       "      <td>0</td>\n",
       "      <td>26</td>\n",
       "      <td>joven</td>\n",
       "    </tr>\n",
       "    <tr>\n",
       "      <th>10618</th>\n",
       "      <td>316407203</td>\n",
       "      <td>Shih-Chieh Chen</td>\n",
       "      <td>TPE</td>\n",
       "      <td>male</td>\n",
       "      <td>1989-11-27</td>\n",
       "      <td>1.90</td>\n",
       "      <td>152.0</td>\n",
       "      <td>weightlifting</td>\n",
       "      <td>0</td>\n",
       "      <td>0</td>\n",
       "      <td>0</td>\n",
       "      <td>27</td>\n",
       "      <td>joven</td>\n",
       "    </tr>\n",
       "    <tr>\n",
       "      <th>11076</th>\n",
       "      <td>783577088</td>\n",
       "      <td>Tsanko Arnaudov</td>\n",
       "      <td>POR</td>\n",
       "      <td>male</td>\n",
       "      <td>1992-03-14</td>\n",
       "      <td>1.98</td>\n",
       "      <td>154.0</td>\n",
       "      <td>athletics</td>\n",
       "      <td>0</td>\n",
       "      <td>0</td>\n",
       "      <td>0</td>\n",
       "      <td>24</td>\n",
       "      <td>joven</td>\n",
       "    </tr>\n",
       "  </tbody>\n",
       "</table>\n",
       "</div>"
      ],
      "text/plain": [
       "              id                     name nationality   sex        dob  \\\n",
       "5941    57339699  Behdad Salimikordasiabi         IRI  male 1989-12-08   \n",
       "6491   306635640             Daniel Natea         ROU  male 1992-04-21   \n",
       "6500   285374253             Daniel Stahl         SWE  male 1992-08-27   \n",
       "6536   933764156             Darrell Wesh         HAI  male 1992-01-21   \n",
       "7063   344465413   Fernando Salas Manguis         ECU  male 1988-02-10   \n",
       "7064   427314005    Fernando Saraiva Reis         BRA  male 1990-03-10   \n",
       "7658   784382414           Ivan Emilianov         MDA  male 1977-02-19   \n",
       "8532   592699944         Lasha Talakhadze         GEO  male 1993-10-02   \n",
       "9018   620850796             Mason Finley         USA  male 1990-10-07   \n",
       "9902   208033661               Peter Nagy         HUN  male 1986-01-16   \n",
       "10039  501691381             Rafael Silva         BRA  male 1987-05-11   \n",
       "10315  209686890         Ruben Aleksanyan         ARM  male 1990-03-14   \n",
       "10618  316407203          Shih-Chieh Chen         TPE  male 1989-11-27   \n",
       "11076  783577088          Tsanko Arnaudov         POR  male 1992-03-14   \n",
       "\n",
       "       height  weight          sport  gold  silver  bronze  age  rango  \n",
       "5941     1.92   170.0  weightlifting     0       0       0   27  joven  \n",
       "6491     2.03   170.0           judo     0       0       0   24  joven  \n",
       "6500     2.00   155.0      athletics     0       0       0   24  joven  \n",
       "6536     1.83   160.0      athletics     0       0       0   24  joven  \n",
       "7063     1.86   163.0  weightlifting     0       0       0   28  joven  \n",
       "7064     1.85   155.0  weightlifting     0       0       0   26  joven  \n",
       "7658     2.02   165.0      athletics     0       0       0   39  mayor  \n",
       "8532     1.97   157.0  weightlifting     1       0       0   23  joven  \n",
       "9018     2.04   157.0      athletics     0       0       0   26  joven  \n",
       "9902     1.92   159.0  weightlifting     0       0       0   30  joven  \n",
       "10039    2.03   160.0           judo     0       0       1   29  joven  \n",
       "10315    1.80   152.0  weightlifting     0       0       0   26  joven  \n",
       "10618    1.90   152.0  weightlifting     0       0       0   27  joven  \n",
       "11076    1.98   154.0      athletics     0       0       0   24  joven  "
      ]
     },
     "execution_count": 589,
     "metadata": {},
     "output_type": "execute_result"
    }
   ],
   "source": [
    "df_prep[df_prep['weight'] > 150] "
   ]
  },
  {
   "cell_type": "markdown",
   "id": "9d489fdc",
   "metadata": {},
   "source": [
    "Tiene sentido que los atletas de disciplinas como levantar pesas y judo tengan estos pesos. No puedo eliminarlos."
   ]
  },
  {
   "cell_type": "code",
   "execution_count": 590,
   "id": "52be8ab0",
   "metadata": {},
   "outputs": [
    {
     "data": {
      "image/png": "[encoded data removed]",
      "text/plain": [
       "<Figure size 1080x720 with 2 Axes>"
      ]
     },
     "metadata": {
      "needs_background": "light"
     },
     "output_type": "display_data"
    }
   ],
   "source": [
    "# Si grafico las tres variables numéricas que estoy evaluando\n",
    "plt.figure(figsize=(15,10))\n",
    "\n",
    "# en el primer plor como ariables trasnformadas por StandardScaler\n",
    "plt.subplot(2,1,1)\n",
    "sns.boxplot(data=df[features], orient='h');\n",
    "plt.title('Datos originales (con StandardScaler)');\n",
    "\n",
    "# Y ahora grafico las mismas tres variables pero transformadas por PCA\n",
    "plt.subplot(2,1,2)\n",
    "sns.boxplot(data=df_pca[['PCA_1', 'PCA_2', 'PCA_3']], orient='h');\n",
    "plt.title('Datos transformados por PCA');\n",
    "plt.grid(axis='x')"
   ]
  },
  {
   "cell_type": "markdown",
   "id": "753becbe",
   "metadata": {},
   "source": [
    "No queda tan claro en el gráfico que tengamos menos outliers"
   ]
  },
  {
   "cell_type": "code",
   "execution_count": 591,
   "id": "890ac8e4",
   "metadata": {},
   "outputs": [
    {
     "name": "stdout",
     "output_type": "stream",
     "text": [
      "Cantidad de outliers originales :\n",
      "height     92\n",
      "weight    282\n",
      "age       206\n",
      "dtype: int64\n",
      "\n",
      "Cantidad de outliers con PCA :\n",
      "PCA_1    122\n",
      "PCA_2    246\n",
      "PCA_3    447\n",
      "dtype: int64\n",
      "\n"
     ]
    }
   ],
   "source": [
    "# Me fijo que pasa numéricamente\n",
    "# Con los datos originales (con StandardScaler)\n",
    "dfo = df[features]\n",
    "\n",
    "def contar_outliers(df):\n",
    "    Q1 = df.quantile(0.25)\n",
    "    Q3 = df.quantile(0.75)\n",
    "    IQR = Q3 - Q1\n",
    "    \n",
    "    outliers_bool = (df < (Q1 - 1.5 * IQR)) |(df > (Q3 + 1.5 * IQR))\n",
    "    outliers = outliers_bool.sum(axis=0)\n",
    "    return outliers\n",
    "\n",
    "out = contar_outliers(dfo)\n",
    "\n",
    "print(f'Cantidad de outliers originales :\\n{out}\\n')\n",
    "\n",
    "# Con los datos transformados por PCA\n",
    "dfpca = df_pca[['PCA_1', 'PCA_2', 'PCA_3']]\n",
    "\n",
    "out = contar_outliers(dfpca)\n",
    "\n",
    "print(f'Cantidad de outliers con PCA :\\n{out}\\n')"
   ]
  },
  {
   "cell_type": "markdown",
   "id": "c12a5bd5",
   "metadata": {},
   "source": [
    "Por lo tanto la transformación de PCA no redujo los outliers"
   ]
  },
  {
   "cell_type": "code",
   "execution_count": 592,
   "id": "dacfb754",
   "metadata": {},
   "outputs": [
    {
     "data": {
      "text/html": [
       "<div>\n",
       "<style scoped>\n",
       "    .dataframe tbody tr th:only-of-type {\n",
       "        vertical-align: middle;\n",
       "    }\n",
       "\n",
       "    .dataframe tbody tr th {\n",
       "        vertical-align: top;\n",
       "    }\n",
       "\n",
       "    .dataframe thead th {\n",
       "        text-align: right;\n",
       "    }\n",
       "</style>\n",
       "<table border=\"1\" class=\"dataframe\">\n",
       "  <thead>\n",
       "    <tr style=\"text-align: right;\">\n",
       "      <th></th>\n",
       "      <th>id</th>\n",
       "      <th>name</th>\n",
       "      <th>nationality</th>\n",
       "      <th>sex</th>\n",
       "      <th>dob</th>\n",
       "      <th>height</th>\n",
       "      <th>weight</th>\n",
       "      <th>sport</th>\n",
       "      <th>gold</th>\n",
       "      <th>silver</th>\n",
       "      <th>bronze</th>\n",
       "      <th>age</th>\n",
       "      <th>rango</th>\n",
       "    </tr>\n",
       "  </thead>\n",
       "  <tbody>\n",
       "    <tr>\n",
       "      <th>0</th>\n",
       "      <td>532037425</td>\n",
       "      <td>A Lam Shin</td>\n",
       "      <td>KOR</td>\n",
       "      <td>female</td>\n",
       "      <td>1986-09-23</td>\n",
       "      <td>1.68</td>\n",
       "      <td>56.0</td>\n",
       "      <td>fencing</td>\n",
       "      <td>0</td>\n",
       "      <td>0</td>\n",
       "      <td>0</td>\n",
       "      <td>30</td>\n",
       "      <td>joven</td>\n",
       "    </tr>\n",
       "    <tr>\n",
       "      <th>1</th>\n",
       "      <td>87689776</td>\n",
       "      <td>Aauri Lorena Bokesa</td>\n",
       "      <td>ESP</td>\n",
       "      <td>female</td>\n",
       "      <td>1988-12-14</td>\n",
       "      <td>1.80</td>\n",
       "      <td>62.0</td>\n",
       "      <td>athletics</td>\n",
       "      <td>0</td>\n",
       "      <td>0</td>\n",
       "      <td>0</td>\n",
       "      <td>28</td>\n",
       "      <td>joven</td>\n",
       "    </tr>\n",
       "    <tr>\n",
       "      <th>2</th>\n",
       "      <td>997877719</td>\n",
       "      <td>Ababel Yeshaneh</td>\n",
       "      <td>ETH</td>\n",
       "      <td>female</td>\n",
       "      <td>1991-07-22</td>\n",
       "      <td>1.65</td>\n",
       "      <td>54.0</td>\n",
       "      <td>athletics</td>\n",
       "      <td>0</td>\n",
       "      <td>0</td>\n",
       "      <td>0</td>\n",
       "      <td>25</td>\n",
       "      <td>joven</td>\n",
       "    </tr>\n",
       "    <tr>\n",
       "      <th>3</th>\n",
       "      <td>376068084</td>\n",
       "      <td>Abbey D'Agostino</td>\n",
       "      <td>USA</td>\n",
       "      <td>female</td>\n",
       "      <td>1992-05-25</td>\n",
       "      <td>1.61</td>\n",
       "      <td>49.0</td>\n",
       "      <td>athletics</td>\n",
       "      <td>0</td>\n",
       "      <td>0</td>\n",
       "      <td>0</td>\n",
       "      <td>24</td>\n",
       "      <td>joven</td>\n",
       "    </tr>\n",
       "    <tr>\n",
       "      <th>4</th>\n",
       "      <td>162792594</td>\n",
       "      <td>Abbey Weitzeil</td>\n",
       "      <td>USA</td>\n",
       "      <td>female</td>\n",
       "      <td>1996-12-03</td>\n",
       "      <td>1.78</td>\n",
       "      <td>68.0</td>\n",
       "      <td>aquatics</td>\n",
       "      <td>1</td>\n",
       "      <td>1</td>\n",
       "      <td>0</td>\n",
       "      <td>20</td>\n",
       "      <td>adolescente</td>\n",
       "    </tr>\n",
       "  </tbody>\n",
       "</table>\n",
       "</div>"
      ],
      "text/plain": [
       "          id                 name nationality     sex        dob  height  \\\n",
       "0  532037425           A Lam Shin         KOR  female 1986-09-23    1.68   \n",
       "1   87689776  Aauri Lorena Bokesa         ESP  female 1988-12-14    1.80   \n",
       "2  997877719      Ababel Yeshaneh         ETH  female 1991-07-22    1.65   \n",
       "3  376068084     Abbey D'Agostino         USA  female 1992-05-25    1.61   \n",
       "4  162792594       Abbey Weitzeil         USA  female 1996-12-03    1.78   \n",
       "\n",
       "   weight      sport  gold  silver  bronze  age        rango  \n",
       "0    56.0    fencing     0       0       0   30        joven  \n",
       "1    62.0  athletics     0       0       0   28        joven  \n",
       "2    54.0  athletics     0       0       0   25        joven  \n",
       "3    49.0  athletics     0       0       0   24        joven  \n",
       "4    68.0   aquatics     1       1       0   20  adolescente  "
      ]
     },
     "execution_count": 592,
     "metadata": {},
     "output_type": "execute_result"
    }
   ],
   "source": [
    "df_prep.head()\n"
   ]
  },
  {
   "cell_type": "code",
   "execution_count": 593,
   "id": "35588e5e",
   "metadata": {},
   "outputs": [
    {
     "name": "stdout",
     "output_type": "stream",
     "text": [
      "Cantidad de outliers originales :\n",
      "height     92\n",
      "weight    282\n",
      "age       206\n",
      "dtype: int64\n",
      "\n"
     ]
    }
   ],
   "source": [
    "# Que pasaba con los outliers en los datos orginales (raw)\n",
    "dfo = df_prep[features]\n",
    "\n",
    "out = contar_outliers(dfo)\n",
    "\n",
    "print(f'Cantidad de outliers originales :\\n{out}\\n')\n"
   ]
  },
  {
   "cell_type": "markdown",
   "id": "a10d3c36",
   "metadata": {},
   "source": [
    "El formato preprocesado con la escala original es el que menos outliers contenía. Cómo podemos tratarlos?\n"
   ]
  },
  {
   "cell_type": "code",
   "execution_count": 594,
   "id": "b873c9ed",
   "metadata": {},
   "outputs": [
    {
     "data": {
      "image/png": "[encoded data removed]",
      "text/plain": [
       "<Figure size 1080x720 with 1 Axes>"
      ]
     },
     "metadata": {
      "needs_background": "light"
     },
     "output_type": "display_data"
    }
   ],
   "source": [
    "plt.figure(figsize=(15,10))\n",
    "sns.boxplot(data=df_prep[features], orient='h');\n",
    "plt.title('Datos originales (preprocesados, sin estandarizar)');"
   ]
  },
  {
   "cell_type": "code",
   "execution_count": 595,
   "id": "083f8923",
   "metadata": {},
   "outputs": [
    {
     "data": {
      "text/plain": [
       "array([[0.47      , 0.17985612, 0.33333333],\n",
       "       [0.59      , 0.22302158, 0.29166667],\n",
       "       [0.44      , 0.16546763, 0.22916667],\n",
       "       ...,\n",
       "       [0.64      , 0.49640288, 0.22916667],\n",
       "       [0.39      , 0.17985612, 0.27083333],\n",
       "       [0.64      , 0.28057554, 0.20833333]])"
      ]
     },
     "execution_count": 595,
     "metadata": {},
     "output_type": "execute_result"
    }
   ],
   "source": [
    "# Normalizo los datos por MinMaxScaler\n",
    "\n",
    "atributos = df_prep[features]\n",
    "mms = MinMaxScaler()\n",
    "\n",
    "X = mms.fit_transform(atributos)\n",
    "X"
   ]
  },
  {
   "cell_type": "code",
   "execution_count": 596,
   "id": "76575c70",
   "metadata": {},
   "outputs": [
    {
     "name": "stdout",
     "output_type": "stream",
     "text": [
      "Cantidad de outliers normalizado con MinMaxScaler:\n",
      "height     92\n",
      "weight    282\n",
      "age       206\n",
      "dtype: int64\n",
      "\n"
     ]
    }
   ],
   "source": [
    "# Cómo quedaron los outliers ahora?\n",
    "dfo = pd.DataFrame(X, columns=features)\n",
    "\n",
    "out = contar_outliers(dfo)\n",
    "\n",
    "print(f'Cantidad de outliers normalizado con MinMaxScaler:\\n{out}\\n')"
   ]
  },
  {
   "cell_type": "markdown",
   "id": "f8b7c9ee",
   "metadata": {},
   "source": [
    "Al normalizar con MinMaxScaler sigo teniendo los mismos outliers que en los datos originales"
   ]
  },
  {
   "cell_type": "code",
   "execution_count": 597,
   "id": "728f0b28",
   "metadata": {},
   "outputs": [
    {
     "data": {
      "text/plain": [
       "array([[0.02643516, 0.88117192, 0.47205639],\n",
       "       [0.02644989, 0.91105175, 0.41144272],\n",
       "       [0.0277175 , 0.90711825, 0.41996216],\n",
       "       ...,\n",
       "       [0.01794475, 0.96998629, 0.24249657],\n",
       "       [0.02572773, 0.90047052, 0.43415543],\n",
       "       [0.02499219, 0.94565048, 0.32422302]])"
      ]
     },
     "execution_count": 597,
     "metadata": {},
     "output_type": "execute_result"
    }
   ],
   "source": [
    "# Normalizo los datos por normalize\n",
    "\n",
    "atributos = df_prep[features]\n",
    "atributos_norm = preprocessing.normalize(atributos)\n",
    "\n",
    "atributos_norm"
   ]
  },
  {
   "cell_type": "code",
   "execution_count": 598,
   "id": "a626437a",
   "metadata": {},
   "outputs": [
    {
     "name": "stdout",
     "output_type": "stream",
     "text": [
      "Cantidad de outliers normalizado con normalize:\n",
      "height    198\n",
      "weight    427\n",
      "age       193\n",
      "dtype: int64\n",
      "\n"
     ]
    }
   ],
   "source": [
    "# Cómo quedaron los outliers ahora?\n",
    "dfn = pd.DataFrame(atributos_norm, columns=features)\n",
    "\n",
    "out = contar_outliers(dfn)\n",
    "\n",
    "print(f'Cantidad de outliers normalizado con normalize:\\n{out}\\n')"
   ]
  },
  {
   "cell_type": "code",
   "execution_count": null,
   "id": "3e5c5c58",
   "metadata": {},
   "outputs": [],
   "source": []
  },
  {
   "cell_type": "markdown",
   "id": "07d61b7b",
   "metadata": {},
   "source": [
    "Con normalize tengo más outliers que antes"
   ]
  },
  {
   "cell_type": "code",
   "execution_count": 599,
   "id": "aa746267",
   "metadata": {},
   "outputs": [
    {
     "data": {
      "text/plain": [
       "array([[-0.53333333, -0.73684211,  0.57142857],\n",
       "       [ 0.26666667, -0.42105263,  0.28571429],\n",
       "       [-0.73333333, -0.84210526, -0.14285714],\n",
       "       ...,\n",
       "       [ 0.6       ,  1.57894737, -0.14285714],\n",
       "       [-1.06666667, -0.73684211,  0.14285714],\n",
       "       [ 0.6       ,  0.        , -0.28571429]])"
      ]
     },
     "execution_count": 599,
     "metadata": {},
     "output_type": "execute_result"
    }
   ],
   "source": [
    "# Pruebo con RobustScaler\n",
    "atributos = df_prep[features]\n",
    "rsc = RobustScaler(quantile_range=(25, 75))\n",
    "\n",
    "Xrsc = rsc.fit_transform(atributos)\n",
    "Xrsc"
   ]
  },
  {
   "cell_type": "code",
   "execution_count": 600,
   "id": "a066f94e",
   "metadata": {},
   "outputs": [
    {
     "name": "stdout",
     "output_type": "stream",
     "text": [
      "Cantidad de outliers normalizado con RobustScaler:\n",
      "height     92\n",
      "weight    282\n",
      "age       206\n",
      "dtype: int64\n",
      "\n"
     ]
    }
   ],
   "source": [
    "# Cómo quedaron los outliers ahora?\n",
    "dfrs = pd.DataFrame(Xrsc, columns=features)\n",
    "\n",
    "out = contar_outliers(dfrs)\n",
    "\n",
    "print(f'Cantidad de outliers normalizado con RobustScaler:\\n{out}\\n')"
   ]
  },
  {
   "cell_type": "markdown",
   "id": "25f02c78",
   "metadata": {},
   "source": [
    "Hasta ahora estuve usando transformaciones lineales y no obtuve el resultado deseado. Voy a probar con una transformación no lineal. "
   ]
  },
  {
   "cell_type": "code",
   "execution_count": 601,
   "id": "f1c713ff",
   "metadata": {},
   "outputs": [
    {
     "data": {
      "text/plain": [
       "array([[-0.76414147, -1.11523187,  0.73288191],\n",
       "       [ 0.32705394, -0.58951727,  0.38850484],\n",
       "       [-1.04767993, -1.30854277, -0.20213944],\n",
       "       ...,\n",
       "       [ 0.76283992,  1.60220696, -0.20213944],\n",
       "       [-1.53052567, -1.11523187,  0.20240277],\n",
       "       [ 0.76283992,  0.00887886, -0.42276996]])"
      ]
     },
     "execution_count": 601,
     "metadata": {},
     "output_type": "execute_result"
    }
   ],
   "source": [
    "# Pruebo con PowerTransformer: transformación no lineal\n",
    "atributos = df_prep[features]\n",
    "ptr = PowerTransformer(method='box-cox')\n",
    "\n",
    "Xptr = ptr.fit_transform(atributos)\n",
    "Xptr"
   ]
  },
  {
   "cell_type": "code",
   "execution_count": 602,
   "id": "29bea7c7",
   "metadata": {},
   "outputs": [
    {
     "name": "stdout",
     "output_type": "stream",
     "text": [
      "Cantidad de outliers normalizado con PowerTransformer:\n",
      "height     74\n",
      "weight    117\n",
      "age       118\n",
      "dtype: int64\n",
      "\n"
     ]
    }
   ],
   "source": [
    "# Cómo quedaron los outliers ahora?\n",
    "dfptr = pd.DataFrame(Xptr, columns=features)\n",
    "\n",
    "out = contar_outliers(dfptr)\n",
    "\n",
    "print(f'Cantidad de outliers normalizado con PowerTransformer:\\n{out}\\n')"
   ]
  },
  {
   "cell_type": "markdown",
   "id": "44802404",
   "metadata": {},
   "source": [
    "Esta vez sí hay una reducción de cantidad de outliers, casi a la mitad. Con esta transformación de datos tendré menos problemas con los outliers que en las transformaciones anteriores."
   ]
  },
  {
   "cell_type": "code",
   "execution_count": 603,
   "id": "acfde1aa",
   "metadata": {},
   "outputs": [
    {
     "data": {
      "image/png": "[encoded data removed]",
      "text/plain": [
       "<Figure size 1080x720 with 3 Axes>"
      ]
     },
     "metadata": {
      "needs_background": "light"
     },
     "output_type": "display_data"
    }
   ],
   "source": [
    "# Si grafico las tres variables numéricas que estoy evaluando\n",
    "plt.figure(figsize=(15,10))\n",
    "\n",
    "# en el primer plor como ariables trasnformadas por StandardScaler\n",
    "plt.subplot(3,1,1)\n",
    "sns.boxplot(data=df[features], orient='h');\n",
    "plt.title('Datos originales (con StandardScaler)');\n",
    "\n",
    "# Y ahora grafico las mismas tres variables pero transformadas por RobustScaler\n",
    "plt.subplot(3,1,2)\n",
    "sns.boxplot(data=dfrs[features], orient='h');\n",
    "plt.title('Datos transformados por RobustScaler');\n",
    "plt.grid(axis='x')\n",
    "\n",
    "# Y ahora grafico las mismas tres variables pero transformadas por PowerTransformer\n",
    "plt.subplot(3,1,3)\n",
    "sns.boxplot(data=dfptr[features], orient='h');\n",
    "plt.title('Datos transformados por PowerTransformer');\n",
    "plt.grid(axis='x')"
   ]
  }
 ],
 "metadata": {
  "kernelspec": {
   "display_name": "Python 3",
   "language": "python",
   "name": "python3"
  },
  "language_info": {
   "codemirror_mode": {
    "name": "ipython",
    "version": 3
   },
   "file_extension": ".py",
   "mimetype": "text/x-python",
   "name": "python",
   "nbconvert_exporter": "python",
   "pygments_lexer": "ipython3",
   "version": "3.8.8"
  }
 },
 "nbformat": 4,
 "nbformat_minor": 5
}
